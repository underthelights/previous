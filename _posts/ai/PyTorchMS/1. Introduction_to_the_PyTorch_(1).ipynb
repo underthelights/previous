{
  "nbformat": 4,
  "nbformat_minor": 0,
  "metadata": {
    "colab": {
      "name": "1.Introduction to the PyTorch (1).ipynb",
      "provenance": [],
      "collapsed_sections": [],
      "authorship_tag": "ABX9TyOxdp7+0SUbE2bcDKrbvlkJ",
      "include_colab_link": true
    },
    "kernelspec": {
      "name": "python3",
      "display_name": "Python 3"
    },
    "language_info": {
      "name": "python"
    },
    "widgets": {
      "application/vnd.jupyter.widget-state+json": {
        "4777d9a7eeb64b749b422579bc82b567": {
          "model_module": "@jupyter-widgets/controls",
          "model_name": "HBoxModel",
          "state": {
            "_view_name": "HBoxView",
            "_dom_classes": [],
            "_model_name": "HBoxModel",
            "_view_module": "@jupyter-widgets/controls",
            "_model_module_version": "1.5.0",
            "_view_count": null,
            "_view_module_version": "1.5.0",
            "box_style": "",
            "layout": "IPY_MODEL_babb31cf0c734db7ab18fd0f74c3de78",
            "_model_module": "@jupyter-widgets/controls",
            "children": [
              "IPY_MODEL_c6c4055d32c043c5a2f20a0d94e51b45",
              "IPY_MODEL_aa50c92d69e74121b79302e38b6fdc10"
            ]
          }
        },
        "babb31cf0c734db7ab18fd0f74c3de78": {
          "model_module": "@jupyter-widgets/base",
          "model_name": "LayoutModel",
          "state": {
            "_view_name": "LayoutView",
            "grid_template_rows": null,
            "right": null,
            "justify_content": null,
            "_view_module": "@jupyter-widgets/base",
            "overflow": null,
            "_model_module_version": "1.2.0",
            "_view_count": null,
            "flex_flow": null,
            "width": null,
            "min_width": null,
            "border": null,
            "align_items": null,
            "bottom": null,
            "_model_module": "@jupyter-widgets/base",
            "top": null,
            "grid_column": null,
            "overflow_y": null,
            "overflow_x": null,
            "grid_auto_flow": null,
            "grid_area": null,
            "grid_template_columns": null,
            "flex": null,
            "_model_name": "LayoutModel",
            "justify_items": null,
            "grid_row": null,
            "max_height": null,
            "align_content": null,
            "visibility": null,
            "align_self": null,
            "height": null,
            "min_height": null,
            "padding": null,
            "grid_auto_rows": null,
            "grid_gap": null,
            "max_width": null,
            "order": null,
            "_view_module_version": "1.2.0",
            "grid_template_areas": null,
            "object_position": null,
            "object_fit": null,
            "grid_auto_columns": null,
            "margin": null,
            "display": null,
            "left": null
          }
        },
        "c6c4055d32c043c5a2f20a0d94e51b45": {
          "model_module": "@jupyter-widgets/controls",
          "model_name": "FloatProgressModel",
          "state": {
            "_view_name": "ProgressView",
            "style": "IPY_MODEL_79bc7760afde4ad4b9881045ac9fb450",
            "_dom_classes": [],
            "description": "",
            "_model_name": "FloatProgressModel",
            "bar_style": "success",
            "max": 26421880,
            "_view_module": "@jupyter-widgets/controls",
            "_model_module_version": "1.5.0",
            "value": 26421880,
            "_view_count": null,
            "_view_module_version": "1.5.0",
            "orientation": "horizontal",
            "min": 0,
            "description_tooltip": null,
            "_model_module": "@jupyter-widgets/controls",
            "layout": "IPY_MODEL_da3b53c7d4a942e2968efb5ef142d36f"
          }
        },
        "aa50c92d69e74121b79302e38b6fdc10": {
          "model_module": "@jupyter-widgets/controls",
          "model_name": "HTMLModel",
          "state": {
            "_view_name": "HTMLView",
            "style": "IPY_MODEL_3e48615ba1324ef5a083154014b718dd",
            "_dom_classes": [],
            "description": "",
            "_model_name": "HTMLModel",
            "placeholder": "​",
            "_view_module": "@jupyter-widgets/controls",
            "_model_module_version": "1.5.0",
            "value": " 26422272/? [00:04&lt;00:00, 5455764.97it/s]",
            "_view_count": null,
            "_view_module_version": "1.5.0",
            "description_tooltip": null,
            "_model_module": "@jupyter-widgets/controls",
            "layout": "IPY_MODEL_521b2fdb6f21481791be8ae2e5e9b598"
          }
        },
        "79bc7760afde4ad4b9881045ac9fb450": {
          "model_module": "@jupyter-widgets/controls",
          "model_name": "ProgressStyleModel",
          "state": {
            "_view_name": "StyleView",
            "_model_name": "ProgressStyleModel",
            "description_width": "initial",
            "_view_module": "@jupyter-widgets/base",
            "_model_module_version": "1.5.0",
            "_view_count": null,
            "_view_module_version": "1.2.0",
            "bar_color": null,
            "_model_module": "@jupyter-widgets/controls"
          }
        },
        "da3b53c7d4a942e2968efb5ef142d36f": {
          "model_module": "@jupyter-widgets/base",
          "model_name": "LayoutModel",
          "state": {
            "_view_name": "LayoutView",
            "grid_template_rows": null,
            "right": null,
            "justify_content": null,
            "_view_module": "@jupyter-widgets/base",
            "overflow": null,
            "_model_module_version": "1.2.0",
            "_view_count": null,
            "flex_flow": null,
            "width": null,
            "min_width": null,
            "border": null,
            "align_items": null,
            "bottom": null,
            "_model_module": "@jupyter-widgets/base",
            "top": null,
            "grid_column": null,
            "overflow_y": null,
            "overflow_x": null,
            "grid_auto_flow": null,
            "grid_area": null,
            "grid_template_columns": null,
            "flex": null,
            "_model_name": "LayoutModel",
            "justify_items": null,
            "grid_row": null,
            "max_height": null,
            "align_content": null,
            "visibility": null,
            "align_self": null,
            "height": null,
            "min_height": null,
            "padding": null,
            "grid_auto_rows": null,
            "grid_gap": null,
            "max_width": null,
            "order": null,
            "_view_module_version": "1.2.0",
            "grid_template_areas": null,
            "object_position": null,
            "object_fit": null,
            "grid_auto_columns": null,
            "margin": null,
            "display": null,
            "left": null
          }
        },
        "3e48615ba1324ef5a083154014b718dd": {
          "model_module": "@jupyter-widgets/controls",
          "model_name": "DescriptionStyleModel",
          "state": {
            "_view_name": "StyleView",
            "_model_name": "DescriptionStyleModel",
            "description_width": "",
            "_view_module": "@jupyter-widgets/base",
            "_model_module_version": "1.5.0",
            "_view_count": null,
            "_view_module_version": "1.2.0",
            "_model_module": "@jupyter-widgets/controls"
          }
        },
        "521b2fdb6f21481791be8ae2e5e9b598": {
          "model_module": "@jupyter-widgets/base",
          "model_name": "LayoutModel",
          "state": {
            "_view_name": "LayoutView",
            "grid_template_rows": null,
            "right": null,
            "justify_content": null,
            "_view_module": "@jupyter-widgets/base",
            "overflow": null,
            "_model_module_version": "1.2.0",
            "_view_count": null,
            "flex_flow": null,
            "width": null,
            "min_width": null,
            "border": null,
            "align_items": null,
            "bottom": null,
            "_model_module": "@jupyter-widgets/base",
            "top": null,
            "grid_column": null,
            "overflow_y": null,
            "overflow_x": null,
            "grid_auto_flow": null,
            "grid_area": null,
            "grid_template_columns": null,
            "flex": null,
            "_model_name": "LayoutModel",
            "justify_items": null,
            "grid_row": null,
            "max_height": null,
            "align_content": null,
            "visibility": null,
            "align_self": null,
            "height": null,
            "min_height": null,
            "padding": null,
            "grid_auto_rows": null,
            "grid_gap": null,
            "max_width": null,
            "order": null,
            "_view_module_version": "1.2.0",
            "grid_template_areas": null,
            "object_position": null,
            "object_fit": null,
            "grid_auto_columns": null,
            "margin": null,
            "display": null,
            "left": null
          }
        },
        "dad9f25a526242b99f1a9d0312a98fd1": {
          "model_module": "@jupyter-widgets/controls",
          "model_name": "HBoxModel",
          "state": {
            "_view_name": "HBoxView",
            "_dom_classes": [],
            "_model_name": "HBoxModel",
            "_view_module": "@jupyter-widgets/controls",
            "_model_module_version": "1.5.0",
            "_view_count": null,
            "_view_module_version": "1.5.0",
            "box_style": "",
            "layout": "IPY_MODEL_f4af3b172f384ae383529e1a04e4e493",
            "_model_module": "@jupyter-widgets/controls",
            "children": [
              "IPY_MODEL_3ce9bd6e3b5a498fa4fc36d3ac8a809c",
              "IPY_MODEL_7e411d6f00a94c44858e6c00215d3a71"
            ]
          }
        },
        "f4af3b172f384ae383529e1a04e4e493": {
          "model_module": "@jupyter-widgets/base",
          "model_name": "LayoutModel",
          "state": {
            "_view_name": "LayoutView",
            "grid_template_rows": null,
            "right": null,
            "justify_content": null,
            "_view_module": "@jupyter-widgets/base",
            "overflow": null,
            "_model_module_version": "1.2.0",
            "_view_count": null,
            "flex_flow": null,
            "width": null,
            "min_width": null,
            "border": null,
            "align_items": null,
            "bottom": null,
            "_model_module": "@jupyter-widgets/base",
            "top": null,
            "grid_column": null,
            "overflow_y": null,
            "overflow_x": null,
            "grid_auto_flow": null,
            "grid_area": null,
            "grid_template_columns": null,
            "flex": null,
            "_model_name": "LayoutModel",
            "justify_items": null,
            "grid_row": null,
            "max_height": null,
            "align_content": null,
            "visibility": null,
            "align_self": null,
            "height": null,
            "min_height": null,
            "padding": null,
            "grid_auto_rows": null,
            "grid_gap": null,
            "max_width": null,
            "order": null,
            "_view_module_version": "1.2.0",
            "grid_template_areas": null,
            "object_position": null,
            "object_fit": null,
            "grid_auto_columns": null,
            "margin": null,
            "display": null,
            "left": null
          }
        },
        "3ce9bd6e3b5a498fa4fc36d3ac8a809c": {
          "model_module": "@jupyter-widgets/controls",
          "model_name": "FloatProgressModel",
          "state": {
            "_view_name": "ProgressView",
            "style": "IPY_MODEL_87a3f2ed6c5441cfb3e1ca34d5863359",
            "_dom_classes": [],
            "description": "",
            "_model_name": "FloatProgressModel",
            "bar_style": "success",
            "max": 29515,
            "_view_module": "@jupyter-widgets/controls",
            "_model_module_version": "1.5.0",
            "value": 29515,
            "_view_count": null,
            "_view_module_version": "1.5.0",
            "orientation": "horizontal",
            "min": 0,
            "description_tooltip": null,
            "_model_module": "@jupyter-widgets/controls",
            "layout": "IPY_MODEL_53539f8f0db64e84861bc48051fce4a9"
          }
        },
        "7e411d6f00a94c44858e6c00215d3a71": {
          "model_module": "@jupyter-widgets/controls",
          "model_name": "HTMLModel",
          "state": {
            "_view_name": "HTMLView",
            "style": "IPY_MODEL_78bcffffb5ab4a62afe3e3952b8b61f6",
            "_dom_classes": [],
            "description": "",
            "_model_name": "HTMLModel",
            "placeholder": "​",
            "_view_module": "@jupyter-widgets/controls",
            "_model_module_version": "1.5.0",
            "value": " 29696/? [00:02&lt;00:00, 14291.69it/s]",
            "_view_count": null,
            "_view_module_version": "1.5.0",
            "description_tooltip": null,
            "_model_module": "@jupyter-widgets/controls",
            "layout": "IPY_MODEL_2eb4e4c800ae45298f650fdddb3ba4ff"
          }
        },
        "87a3f2ed6c5441cfb3e1ca34d5863359": {
          "model_module": "@jupyter-widgets/controls",
          "model_name": "ProgressStyleModel",
          "state": {
            "_view_name": "StyleView",
            "_model_name": "ProgressStyleModel",
            "description_width": "initial",
            "_view_module": "@jupyter-widgets/base",
            "_model_module_version": "1.5.0",
            "_view_count": null,
            "_view_module_version": "1.2.0",
            "bar_color": null,
            "_model_module": "@jupyter-widgets/controls"
          }
        },
        "53539f8f0db64e84861bc48051fce4a9": {
          "model_module": "@jupyter-widgets/base",
          "model_name": "LayoutModel",
          "state": {
            "_view_name": "LayoutView",
            "grid_template_rows": null,
            "right": null,
            "justify_content": null,
            "_view_module": "@jupyter-widgets/base",
            "overflow": null,
            "_model_module_version": "1.2.0",
            "_view_count": null,
            "flex_flow": null,
            "width": null,
            "min_width": null,
            "border": null,
            "align_items": null,
            "bottom": null,
            "_model_module": "@jupyter-widgets/base",
            "top": null,
            "grid_column": null,
            "overflow_y": null,
            "overflow_x": null,
            "grid_auto_flow": null,
            "grid_area": null,
            "grid_template_columns": null,
            "flex": null,
            "_model_name": "LayoutModel",
            "justify_items": null,
            "grid_row": null,
            "max_height": null,
            "align_content": null,
            "visibility": null,
            "align_self": null,
            "height": null,
            "min_height": null,
            "padding": null,
            "grid_auto_rows": null,
            "grid_gap": null,
            "max_width": null,
            "order": null,
            "_view_module_version": "1.2.0",
            "grid_template_areas": null,
            "object_position": null,
            "object_fit": null,
            "grid_auto_columns": null,
            "margin": null,
            "display": null,
            "left": null
          }
        },
        "78bcffffb5ab4a62afe3e3952b8b61f6": {
          "model_module": "@jupyter-widgets/controls",
          "model_name": "DescriptionStyleModel",
          "state": {
            "_view_name": "StyleView",
            "_model_name": "DescriptionStyleModel",
            "description_width": "",
            "_view_module": "@jupyter-widgets/base",
            "_model_module_version": "1.5.0",
            "_view_count": null,
            "_view_module_version": "1.2.0",
            "_model_module": "@jupyter-widgets/controls"
          }
        },
        "2eb4e4c800ae45298f650fdddb3ba4ff": {
          "model_module": "@jupyter-widgets/base",
          "model_name": "LayoutModel",
          "state": {
            "_view_name": "LayoutView",
            "grid_template_rows": null,
            "right": null,
            "justify_content": null,
            "_view_module": "@jupyter-widgets/base",
            "overflow": null,
            "_model_module_version": "1.2.0",
            "_view_count": null,
            "flex_flow": null,
            "width": null,
            "min_width": null,
            "border": null,
            "align_items": null,
            "bottom": null,
            "_model_module": "@jupyter-widgets/base",
            "top": null,
            "grid_column": null,
            "overflow_y": null,
            "overflow_x": null,
            "grid_auto_flow": null,
            "grid_area": null,
            "grid_template_columns": null,
            "flex": null,
            "_model_name": "LayoutModel",
            "justify_items": null,
            "grid_row": null,
            "max_height": null,
            "align_content": null,
            "visibility": null,
            "align_self": null,
            "height": null,
            "min_height": null,
            "padding": null,
            "grid_auto_rows": null,
            "grid_gap": null,
            "max_width": null,
            "order": null,
            "_view_module_version": "1.2.0",
            "grid_template_areas": null,
            "object_position": null,
            "object_fit": null,
            "grid_auto_columns": null,
            "margin": null,
            "display": null,
            "left": null
          }
        },
        "9f37e8f73c8746fc86fec6731e497663": {
          "model_module": "@jupyter-widgets/controls",
          "model_name": "HBoxModel",
          "state": {
            "_view_name": "HBoxView",
            "_dom_classes": [],
            "_model_name": "HBoxModel",
            "_view_module": "@jupyter-widgets/controls",
            "_model_module_version": "1.5.0",
            "_view_count": null,
            "_view_module_version": "1.5.0",
            "box_style": "",
            "layout": "IPY_MODEL_54e1379648a94464886fe35f14fe3b9b",
            "_model_module": "@jupyter-widgets/controls",
            "children": [
              "IPY_MODEL_ec32a150209d4b4a92413f41f0f96cf3",
              "IPY_MODEL_dedd7c22b5b742c2b2f7d9777b3da382"
            ]
          }
        },
        "54e1379648a94464886fe35f14fe3b9b": {
          "model_module": "@jupyter-widgets/base",
          "model_name": "LayoutModel",
          "state": {
            "_view_name": "LayoutView",
            "grid_template_rows": null,
            "right": null,
            "justify_content": null,
            "_view_module": "@jupyter-widgets/base",
            "overflow": null,
            "_model_module_version": "1.2.0",
            "_view_count": null,
            "flex_flow": null,
            "width": null,
            "min_width": null,
            "border": null,
            "align_items": null,
            "bottom": null,
            "_model_module": "@jupyter-widgets/base",
            "top": null,
            "grid_column": null,
            "overflow_y": null,
            "overflow_x": null,
            "grid_auto_flow": null,
            "grid_area": null,
            "grid_template_columns": null,
            "flex": null,
            "_model_name": "LayoutModel",
            "justify_items": null,
            "grid_row": null,
            "max_height": null,
            "align_content": null,
            "visibility": null,
            "align_self": null,
            "height": null,
            "min_height": null,
            "padding": null,
            "grid_auto_rows": null,
            "grid_gap": null,
            "max_width": null,
            "order": null,
            "_view_module_version": "1.2.0",
            "grid_template_areas": null,
            "object_position": null,
            "object_fit": null,
            "grid_auto_columns": null,
            "margin": null,
            "display": null,
            "left": null
          }
        },
        "ec32a150209d4b4a92413f41f0f96cf3": {
          "model_module": "@jupyter-widgets/controls",
          "model_name": "FloatProgressModel",
          "state": {
            "_view_name": "ProgressView",
            "style": "IPY_MODEL_744ec87a53d4401eb1229da509a74bf4",
            "_dom_classes": [],
            "description": "",
            "_model_name": "FloatProgressModel",
            "bar_style": "success",
            "max": 4422102,
            "_view_module": "@jupyter-widgets/controls",
            "_model_module_version": "1.5.0",
            "value": 4422102,
            "_view_count": null,
            "_view_module_version": "1.5.0",
            "orientation": "horizontal",
            "min": 0,
            "description_tooltip": null,
            "_model_module": "@jupyter-widgets/controls",
            "layout": "IPY_MODEL_072e116db923432194475e740c2eba32"
          }
        },
        "dedd7c22b5b742c2b2f7d9777b3da382": {
          "model_module": "@jupyter-widgets/controls",
          "model_name": "HTMLModel",
          "state": {
            "_view_name": "HTMLView",
            "style": "IPY_MODEL_bbfda9e4115a4856a159aa7077400448",
            "_dom_classes": [],
            "description": "",
            "_model_name": "HTMLModel",
            "placeholder": "​",
            "_view_module": "@jupyter-widgets/controls",
            "_model_module_version": "1.5.0",
            "value": " 4422656/? [00:01&lt;00:00, 3006969.82it/s]",
            "_view_count": null,
            "_view_module_version": "1.5.0",
            "description_tooltip": null,
            "_model_module": "@jupyter-widgets/controls",
            "layout": "IPY_MODEL_3572d553b20840ab89a91ea719fcd8fe"
          }
        },
        "744ec87a53d4401eb1229da509a74bf4": {
          "model_module": "@jupyter-widgets/controls",
          "model_name": "ProgressStyleModel",
          "state": {
            "_view_name": "StyleView",
            "_model_name": "ProgressStyleModel",
            "description_width": "initial",
            "_view_module": "@jupyter-widgets/base",
            "_model_module_version": "1.5.0",
            "_view_count": null,
            "_view_module_version": "1.2.0",
            "bar_color": null,
            "_model_module": "@jupyter-widgets/controls"
          }
        },
        "072e116db923432194475e740c2eba32": {
          "model_module": "@jupyter-widgets/base",
          "model_name": "LayoutModel",
          "state": {
            "_view_name": "LayoutView",
            "grid_template_rows": null,
            "right": null,
            "justify_content": null,
            "_view_module": "@jupyter-widgets/base",
            "overflow": null,
            "_model_module_version": "1.2.0",
            "_view_count": null,
            "flex_flow": null,
            "width": null,
            "min_width": null,
            "border": null,
            "align_items": null,
            "bottom": null,
            "_model_module": "@jupyter-widgets/base",
            "top": null,
            "grid_column": null,
            "overflow_y": null,
            "overflow_x": null,
            "grid_auto_flow": null,
            "grid_area": null,
            "grid_template_columns": null,
            "flex": null,
            "_model_name": "LayoutModel",
            "justify_items": null,
            "grid_row": null,
            "max_height": null,
            "align_content": null,
            "visibility": null,
            "align_self": null,
            "height": null,
            "min_height": null,
            "padding": null,
            "grid_auto_rows": null,
            "grid_gap": null,
            "max_width": null,
            "order": null,
            "_view_module_version": "1.2.0",
            "grid_template_areas": null,
            "object_position": null,
            "object_fit": null,
            "grid_auto_columns": null,
            "margin": null,
            "display": null,
            "left": null
          }
        },
        "bbfda9e4115a4856a159aa7077400448": {
          "model_module": "@jupyter-widgets/controls",
          "model_name": "DescriptionStyleModel",
          "state": {
            "_view_name": "StyleView",
            "_model_name": "DescriptionStyleModel",
            "description_width": "",
            "_view_module": "@jupyter-widgets/base",
            "_model_module_version": "1.5.0",
            "_view_count": null,
            "_view_module_version": "1.2.0",
            "_model_module": "@jupyter-widgets/controls"
          }
        },
        "3572d553b20840ab89a91ea719fcd8fe": {
          "model_module": "@jupyter-widgets/base",
          "model_name": "LayoutModel",
          "state": {
            "_view_name": "LayoutView",
            "grid_template_rows": null,
            "right": null,
            "justify_content": null,
            "_view_module": "@jupyter-widgets/base",
            "overflow": null,
            "_model_module_version": "1.2.0",
            "_view_count": null,
            "flex_flow": null,
            "width": null,
            "min_width": null,
            "border": null,
            "align_items": null,
            "bottom": null,
            "_model_module": "@jupyter-widgets/base",
            "top": null,
            "grid_column": null,
            "overflow_y": null,
            "overflow_x": null,
            "grid_auto_flow": null,
            "grid_area": null,
            "grid_template_columns": null,
            "flex": null,
            "_model_name": "LayoutModel",
            "justify_items": null,
            "grid_row": null,
            "max_height": null,
            "align_content": null,
            "visibility": null,
            "align_self": null,
            "height": null,
            "min_height": null,
            "padding": null,
            "grid_auto_rows": null,
            "grid_gap": null,
            "max_width": null,
            "order": null,
            "_view_module_version": "1.2.0",
            "grid_template_areas": null,
            "object_position": null,
            "object_fit": null,
            "grid_auto_columns": null,
            "margin": null,
            "display": null,
            "left": null
          }
        },
        "3b8ed342a9e14c6bbb9b7d8b227fa262": {
          "model_module": "@jupyter-widgets/controls",
          "model_name": "HBoxModel",
          "state": {
            "_view_name": "HBoxView",
            "_dom_classes": [],
            "_model_name": "HBoxModel",
            "_view_module": "@jupyter-widgets/controls",
            "_model_module_version": "1.5.0",
            "_view_count": null,
            "_view_module_version": "1.5.0",
            "box_style": "",
            "layout": "IPY_MODEL_df8f5956a0d74ba5aea038b9b091aa07",
            "_model_module": "@jupyter-widgets/controls",
            "children": [
              "IPY_MODEL_7fb9c2ff0c844cd49dda9d5a205e3d45",
              "IPY_MODEL_8201c2dafc1047318e8ad90827eae33d"
            ]
          }
        },
        "df8f5956a0d74ba5aea038b9b091aa07": {
          "model_module": "@jupyter-widgets/base",
          "model_name": "LayoutModel",
          "state": {
            "_view_name": "LayoutView",
            "grid_template_rows": null,
            "right": null,
            "justify_content": null,
            "_view_module": "@jupyter-widgets/base",
            "overflow": null,
            "_model_module_version": "1.2.0",
            "_view_count": null,
            "flex_flow": null,
            "width": null,
            "min_width": null,
            "border": null,
            "align_items": null,
            "bottom": null,
            "_model_module": "@jupyter-widgets/base",
            "top": null,
            "grid_column": null,
            "overflow_y": null,
            "overflow_x": null,
            "grid_auto_flow": null,
            "grid_area": null,
            "grid_template_columns": null,
            "flex": null,
            "_model_name": "LayoutModel",
            "justify_items": null,
            "grid_row": null,
            "max_height": null,
            "align_content": null,
            "visibility": null,
            "align_self": null,
            "height": null,
            "min_height": null,
            "padding": null,
            "grid_auto_rows": null,
            "grid_gap": null,
            "max_width": null,
            "order": null,
            "_view_module_version": "1.2.0",
            "grid_template_areas": null,
            "object_position": null,
            "object_fit": null,
            "grid_auto_columns": null,
            "margin": null,
            "display": null,
            "left": null
          }
        },
        "7fb9c2ff0c844cd49dda9d5a205e3d45": {
          "model_module": "@jupyter-widgets/controls",
          "model_name": "FloatProgressModel",
          "state": {
            "_view_name": "ProgressView",
            "style": "IPY_MODEL_e18e4fa7abf646b98dac95ff846aea12",
            "_dom_classes": [],
            "description": "",
            "_model_name": "FloatProgressModel",
            "bar_style": "success",
            "max": 5148,
            "_view_module": "@jupyter-widgets/controls",
            "_model_module_version": "1.5.0",
            "value": 5148,
            "_view_count": null,
            "_view_module_version": "1.5.0",
            "orientation": "horizontal",
            "min": 0,
            "description_tooltip": null,
            "_model_module": "@jupyter-widgets/controls",
            "layout": "IPY_MODEL_d96effd2984443f1b9542d3e8d5ae847"
          }
        },
        "8201c2dafc1047318e8ad90827eae33d": {
          "model_module": "@jupyter-widgets/controls",
          "model_name": "HTMLModel",
          "state": {
            "_view_name": "HTMLView",
            "style": "IPY_MODEL_dccc5b75d613424c8ebcf4136ffc6597",
            "_dom_classes": [],
            "description": "",
            "_model_name": "HTMLModel",
            "placeholder": "​",
            "_view_module": "@jupyter-widgets/controls",
            "_model_module_version": "1.5.0",
            "value": " 6144/? [00:00&lt;00:00, 50779.04it/s]",
            "_view_count": null,
            "_view_module_version": "1.5.0",
            "description_tooltip": null,
            "_model_module": "@jupyter-widgets/controls",
            "layout": "IPY_MODEL_263d5e65bbcc42ec988516c8a26ac9c5"
          }
        },
        "e18e4fa7abf646b98dac95ff846aea12": {
          "model_module": "@jupyter-widgets/controls",
          "model_name": "ProgressStyleModel",
          "state": {
            "_view_name": "StyleView",
            "_model_name": "ProgressStyleModel",
            "description_width": "initial",
            "_view_module": "@jupyter-widgets/base",
            "_model_module_version": "1.5.0",
            "_view_count": null,
            "_view_module_version": "1.2.0",
            "bar_color": null,
            "_model_module": "@jupyter-widgets/controls"
          }
        },
        "d96effd2984443f1b9542d3e8d5ae847": {
          "model_module": "@jupyter-widgets/base",
          "model_name": "LayoutModel",
          "state": {
            "_view_name": "LayoutView",
            "grid_template_rows": null,
            "right": null,
            "justify_content": null,
            "_view_module": "@jupyter-widgets/base",
            "overflow": null,
            "_model_module_version": "1.2.0",
            "_view_count": null,
            "flex_flow": null,
            "width": null,
            "min_width": null,
            "border": null,
            "align_items": null,
            "bottom": null,
            "_model_module": "@jupyter-widgets/base",
            "top": null,
            "grid_column": null,
            "overflow_y": null,
            "overflow_x": null,
            "grid_auto_flow": null,
            "grid_area": null,
            "grid_template_columns": null,
            "flex": null,
            "_model_name": "LayoutModel",
            "justify_items": null,
            "grid_row": null,
            "max_height": null,
            "align_content": null,
            "visibility": null,
            "align_self": null,
            "height": null,
            "min_height": null,
            "padding": null,
            "grid_auto_rows": null,
            "grid_gap": null,
            "max_width": null,
            "order": null,
            "_view_module_version": "1.2.0",
            "grid_template_areas": null,
            "object_position": null,
            "object_fit": null,
            "grid_auto_columns": null,
            "margin": null,
            "display": null,
            "left": null
          }
        },
        "dccc5b75d613424c8ebcf4136ffc6597": {
          "model_module": "@jupyter-widgets/controls",
          "model_name": "DescriptionStyleModel",
          "state": {
            "_view_name": "StyleView",
            "_model_name": "DescriptionStyleModel",
            "description_width": "",
            "_view_module": "@jupyter-widgets/base",
            "_model_module_version": "1.5.0",
            "_view_count": null,
            "_view_module_version": "1.2.0",
            "_model_module": "@jupyter-widgets/controls"
          }
        },
        "263d5e65bbcc42ec988516c8a26ac9c5": {
          "model_module": "@jupyter-widgets/base",
          "model_name": "LayoutModel",
          "state": {
            "_view_name": "LayoutView",
            "grid_template_rows": null,
            "right": null,
            "justify_content": null,
            "_view_module": "@jupyter-widgets/base",
            "overflow": null,
            "_model_module_version": "1.2.0",
            "_view_count": null,
            "flex_flow": null,
            "width": null,
            "min_width": null,
            "border": null,
            "align_items": null,
            "bottom": null,
            "_model_module": "@jupyter-widgets/base",
            "top": null,
            "grid_column": null,
            "overflow_y": null,
            "overflow_x": null,
            "grid_auto_flow": null,
            "grid_area": null,
            "grid_template_columns": null,
            "flex": null,
            "_model_name": "LayoutModel",
            "justify_items": null,
            "grid_row": null,
            "max_height": null,
            "align_content": null,
            "visibility": null,
            "align_self": null,
            "height": null,
            "min_height": null,
            "padding": null,
            "grid_auto_rows": null,
            "grid_gap": null,
            "max_width": null,
            "order": null,
            "_view_module_version": "1.2.0",
            "grid_template_areas": null,
            "object_position": null,
            "object_fit": null,
            "grid_auto_columns": null,
            "margin": null,
            "display": null,
            "left": null
          }
        }
      }
    }
  },
  "cells": [
    {
      "cell_type": "markdown",
      "metadata": {
        "id": "view-in-github",
        "colab_type": "text"
      },
      "source": [
        "<a href=\"https://colab.research.google.com/github/underthelights/underthelights.github.io/blob/main/_posts/ai/PyTorchMS/1.%20Introduction_to_the_PyTorch_(1).ipynb\" target=\"_parent\"><img src=\"https://colab.research.google.com/assets/colab-badge.svg\" alt=\"Open In Colab\"/></a>"
      ]
    },
    {
      "cell_type": "code",
      "metadata": {
        "id": "lMwRNNTsCSqb"
      },
      "source": [
        "%matplotlib inline"
      ],
      "execution_count": null,
      "outputs": []
    },
    {
      "cell_type": "code",
      "metadata": {
        "id": "vo9YDrRvMLPQ"
      },
      "source": [
        "import torch\n",
        "import numpy as np"
      ],
      "execution_count": null,
      "outputs": []
    },
    {
      "cell_type": "code",
      "metadata": {
        "colab": {
          "base_uri": "https://localhost:8080/"
        },
        "id": "KFphYHRCMNf1",
        "outputId": "383b12ff-514a-4e3d-a1fe-22845ba4add4"
      },
      "source": [
        "#directly from data\n",
        "data = [[1,2],[3,4]]\n",
        "x_data = torch.tensor(data)\n",
        "print (x_data)\n",
        "\n",
        "#from numpy\n",
        "np_array = np.array (data)\n",
        "x_np = torch.from_numpy(np_array)\n",
        "print(x_np)\n",
        "\n",
        "#random or constant value\n",
        "shape = (2,3,)\n",
        "\n",
        "rand_tensor = torch.rand(shape)\n",
        "ones_tensor = torch.ones(shape)\n",
        "zeros_tensor = torch.zeros(shape)\n",
        "\n",
        "print(f\"\\n\\n Random Tensor: \\n {rand_tensor} \\n\")\n",
        "print(f\"Ones Tensor: \\n {ones_tensor} \\n\")\n",
        "print(f\"Zeros Tensor: \\n {zeros_tensor}\")\t"
      ],
      "execution_count": null,
      "outputs": [
        {
          "output_type": "stream",
          "text": [
            "tensor([[1, 2],\n",
            "        [3, 4]])\n",
            "tensor([[1, 2],\n",
            "        [3, 4]])\n",
            "\n",
            "\n",
            " Random Tensor: \n",
            " tensor([[0.7545, 0.5427, 0.0106],\n",
            "        [0.2216, 0.2077, 0.1408]]) \n",
            "\n",
            "Ones Tensor: \n",
            " tensor([[1., 1., 1.],\n",
            "        [1., 1., 1.]]) \n",
            "\n",
            "Zeros Tensor: \n",
            " tensor([[0., 0., 0.],\n",
            "        [0., 0., 0.]])\n"
          ],
          "name": "stdout"
        }
      ]
    },
    {
      "cell_type": "code",
      "metadata": {
        "id": "ewoILIcMOTnY"
      },
      "source": [
        "if torch.cuda.is_available():\n",
        "  tensor = tensor.to('cuda')"
      ],
      "execution_count": null,
      "outputs": []
    },
    {
      "cell_type": "code",
      "metadata": {
        "colab": {
          "base_uri": "https://localhost:8080/"
        },
        "id": "IYnOfNiZOu0v",
        "outputId": "39c25f4c-a0da-41e9-ab21-7e56c2b6f9ec"
      },
      "source": [
        "tensor = torch.rand(4,4)\n",
        "print(tensor)\n",
        "\n",
        "print('first row: ', tensor[0])\n",
        "print('first col: ', tensor[:,0])\n",
        "print('last col: ', tensor[...,-1])\n",
        "print('last col: ', tensor[:,-1])\n",
        "\n",
        "tensor[:,-1] = 0\n",
        "print(tensor)"
      ],
      "execution_count": null,
      "outputs": [
        {
          "output_type": "stream",
          "text": [
            "tensor([[0.1371, 0.8166, 0.6000, 0.7704],\n",
            "        [0.5542, 0.0359, 0.4326, 0.7057],\n",
            "        [0.5814, 0.2348, 0.6684, 0.6257],\n",
            "        [0.0775, 0.4683, 0.3104, 0.1633]])\n",
            "first row:  tensor([0.1371, 0.8166, 0.6000, 0.7704])\n",
            "first col:  tensor([0.1371, 0.5542, 0.5814, 0.0775])\n",
            "last col:  tensor([0.7704, 0.7057, 0.6257, 0.1633])\n",
            "last col:  tensor([0.7704, 0.7057, 0.6257, 0.1633])\n",
            "tensor([[0.1371, 0.8166, 0.6000, 0.0000],\n",
            "        [0.5542, 0.0359, 0.4326, 0.0000],\n",
            "        [0.5814, 0.2348, 0.6684, 0.0000],\n",
            "        [0.0775, 0.4683, 0.3104, 0.0000]])\n"
          ],
          "name": "stdout"
        }
      ]
    },
    {
      "cell_type": "code",
      "metadata": {
        "colab": {
          "base_uri": "https://localhost:8080/"
        },
        "id": "LU6DKZhRPpOB",
        "outputId": "05916104-dfa8-4c95-c670-7f2e4fc0bb27"
      },
      "source": [
        "t1 = torch.cat([tensor, tensor, tensor], dim =1)\n",
        "print(t1)"
      ],
      "execution_count": null,
      "outputs": [
        {
          "output_type": "stream",
          "text": [
            "tensor([[0.1371, 0.8166, 0.6000, 0.0000, 0.1371, 0.8166, 0.6000, 0.0000, 0.1371,\n",
            "         0.8166, 0.6000, 0.0000],\n",
            "        [0.5542, 0.0359, 0.4326, 0.0000, 0.5542, 0.0359, 0.4326, 0.0000, 0.5542,\n",
            "         0.0359, 0.4326, 0.0000],\n",
            "        [0.5814, 0.2348, 0.6684, 0.0000, 0.5814, 0.2348, 0.6684, 0.0000, 0.5814,\n",
            "         0.2348, 0.6684, 0.0000],\n",
            "        [0.0775, 0.4683, 0.3104, 0.0000, 0.0775, 0.4683, 0.3104, 0.0000, 0.0775,\n",
            "         0.4683, 0.3104, 0.0000]])\n"
          ],
          "name": "stdout"
        }
      ]
    },
    {
      "cell_type": "code",
      "metadata": {
        "colab": {
          "base_uri": "https://localhost:8080/"
        },
        "id": "2DCIItccPzh4",
        "outputId": "ea0bd6c8-614b-4e8b-b950-a644bcbff879"
      },
      "source": [
        "# This computes the matrix multiplication between two tensors. y1, y2, y3 will have the same value\n",
        "y1 = tensor @ tensor.T\n",
        "y2 = tensor.matmul(tensor.T)\n",
        "y3 = torch.rand_like(tensor)\n",
        "\n",
        "torch.matmul(tensor, tensor.T, out=y3)\n",
        "print(tensor,\"\\n\", tensor.T,\"\\n\",\"\\n\", y1,\"\\n\", y2, \"\\n\", y3,\"\\n\\n\")\n",
        "\n",
        "\n",
        "# This computes the element-wise product. z1, z2, z3 will have the same value\n",
        "z1 = tensor * tensor\n",
        "z2 = tensor.mul(tensor)\n",
        "z3 = torch.rand_like(tensor)\n",
        "\n",
        "torch.mul(tensor, tensor, out=z3)\n",
        "print(z1,\"\\n\", z2, \"\\n\", z3,\"\\n\\n\")"
      ],
      "execution_count": null,
      "outputs": [
        {
          "output_type": "stream",
          "text": [
            "tensor([[0.1371, 0.8166, 0.6000, 0.0000],\n",
            "        [0.5542, 0.0359, 0.4326, 0.0000],\n",
            "        [0.5814, 0.2348, 0.6684, 0.0000],\n",
            "        [0.0775, 0.4683, 0.3104, 0.0000]]) \n",
            " tensor([[0.1371, 0.5542, 0.5814, 0.0775],\n",
            "        [0.8166, 0.0359, 0.2348, 0.4683],\n",
            "        [0.6000, 0.4326, 0.6684, 0.3104],\n",
            "        [0.0000, 0.0000, 0.0000, 0.0000]]) \n",
            " \n",
            " tensor([[1.0456, 0.3648, 0.6724, 0.5793],\n",
            "        [0.3648, 0.4956, 0.6198, 0.1941],\n",
            "        [0.6724, 0.6198, 0.8400, 0.3625],\n",
            "        [0.5793, 0.1941, 0.3625, 0.3217]]) \n",
            " tensor([[1.0456, 0.3648, 0.6724, 0.5793],\n",
            "        [0.3648, 0.4956, 0.6198, 0.1941],\n",
            "        [0.6724, 0.6198, 0.8400, 0.3625],\n",
            "        [0.5793, 0.1941, 0.3625, 0.3217]]) \n",
            " tensor([[1.0456, 0.3648, 0.6724, 0.5793],\n",
            "        [0.3648, 0.4956, 0.6198, 0.1941],\n",
            "        [0.6724, 0.6198, 0.8400, 0.3625],\n",
            "        [0.5793, 0.1941, 0.3625, 0.3217]]) \n",
            "\n",
            "\n",
            "tensor([[0.0188, 0.6668, 0.3599, 0.0000],\n",
            "        [0.3072, 0.0013, 0.1872, 0.0000],\n",
            "        [0.3381, 0.0551, 0.4468, 0.0000],\n",
            "        [0.0060, 0.2193, 0.0964, 0.0000]]) \n",
            " tensor([[0.0188, 0.6668, 0.3599, 0.0000],\n",
            "        [0.3072, 0.0013, 0.1872, 0.0000],\n",
            "        [0.3381, 0.0551, 0.4468, 0.0000],\n",
            "        [0.0060, 0.2193, 0.0964, 0.0000]]) \n",
            " tensor([[0.0188, 0.6668, 0.3599, 0.0000],\n",
            "        [0.3072, 0.0013, 0.1872, 0.0000],\n",
            "        [0.3381, 0.0551, 0.4468, 0.0000],\n",
            "        [0.0060, 0.2193, 0.0964, 0.0000]]) \n",
            "\n",
            "\n"
          ],
          "name": "stdout"
        }
      ]
    },
    {
      "cell_type": "code",
      "metadata": {
        "colab": {
          "base_uri": "https://localhost:8080/"
        },
        "id": "WAx3XQCCP_QW",
        "outputId": "5bfbdf4a-8f1d-4208-b754-ce24b142925e"
      },
      "source": [
        "agg = tensor.sum()\n",
        "agg_it = agg.item()\n",
        "print(agg_it, type(agg_it))"
      ],
      "execution_count": null,
      "outputs": [
        {
          "output_type": "stream",
          "text": [
            "4.91722297668457 <class 'float'>\n"
          ],
          "name": "stdout"
        }
      ]
    },
    {
      "cell_type": "code",
      "metadata": {
        "colab": {
          "base_uri": "https://localhost:8080/"
        },
        "id": "Jaw_8gEnRDur",
        "outputId": "7c04ce19-d2fd-4115-cf4f-1db0bec21199"
      },
      "source": [
        "print(tensor, \"\\n\")\n",
        "tensor.add_(5)\n",
        "print(tensor)"
      ],
      "execution_count": null,
      "outputs": [
        {
          "output_type": "stream",
          "text": [
            "tensor([[0.1371, 0.8166, 0.6000, 0.0000],\n",
            "        [0.5542, 0.0359, 0.4326, 0.0000],\n",
            "        [0.5814, 0.2348, 0.6684, 0.0000],\n",
            "        [0.0775, 0.4683, 0.3104, 0.0000]]) \n",
            "\n",
            "tensor([[5.1371, 5.8166, 5.6000, 5.0000],\n",
            "        [5.5542, 5.0359, 5.4326, 5.0000],\n",
            "        [5.5814, 5.2348, 5.6684, 5.0000],\n",
            "        [5.0775, 5.4683, 5.3104, 5.0000]])\n"
          ],
          "name": "stdout"
        }
      ]
    },
    {
      "cell_type": "code",
      "metadata": {
        "colab": {
          "base_uri": "https://localhost:8080/"
        },
        "id": "dophJywBRJEv",
        "outputId": "bee9aab2-7bd8-43a2-9559-e5a7ee420b28"
      },
      "source": [
        "t = torch.ones(5)\n",
        "print(f\"t: {t}\")\n",
        "\n",
        "n = t.numpy()\n",
        "print(f\"n: {n}\")\n",
        "\n",
        "t.add_(1)\n",
        "\n",
        "print(f\"t: {t}\")\n",
        "print(f\"n: {n}\")"
      ],
      "execution_count": null,
      "outputs": [
        {
          "output_type": "stream",
          "text": [
            "t: tensor([1., 1., 1., 1., 1.])\n",
            "n: [1. 1. 1. 1. 1.]\n",
            "t: tensor([2., 2., 2., 2., 2.])\n",
            "n: [2. 2. 2. 2. 2.]\n"
          ],
          "name": "stdout"
        }
      ]
    },
    {
      "cell_type": "code",
      "metadata": {
        "colab": {
          "base_uri": "https://localhost:8080/"
        },
        "id": "kbrtBKmhRhBp",
        "outputId": "8a78360f-4d70-4400-b9b9-e14fa445331a"
      },
      "source": [
        "n = np.ones(5)\n",
        "t = torch.from_numpy(n)\n",
        "np.add(n, 1, out=n)\n",
        "\n",
        "print(f\"t: {t}\")\n",
        "print(f\"n: {n}\")"
      ],
      "execution_count": null,
      "outputs": [
        {
          "output_type": "stream",
          "text": [
            "t: tensor([2., 2., 2., 2., 2.], dtype=torch.float64)\n",
            "n: [2. 2. 2. 2. 2.]\n"
          ],
          "name": "stdout"
        }
      ]
    },
    {
      "cell_type": "code",
      "metadata": {
        "colab": {
          "base_uri": "https://localhost:8080/",
          "height": 539,
          "referenced_widgets": [
            "4777d9a7eeb64b749b422579bc82b567",
            "babb31cf0c734db7ab18fd0f74c3de78",
            "c6c4055d32c043c5a2f20a0d94e51b45",
            "aa50c92d69e74121b79302e38b6fdc10",
            "79bc7760afde4ad4b9881045ac9fb450",
            "da3b53c7d4a942e2968efb5ef142d36f",
            "3e48615ba1324ef5a083154014b718dd",
            "521b2fdb6f21481791be8ae2e5e9b598",
            "dad9f25a526242b99f1a9d0312a98fd1",
            "f4af3b172f384ae383529e1a04e4e493",
            "3ce9bd6e3b5a498fa4fc36d3ac8a809c",
            "7e411d6f00a94c44858e6c00215d3a71",
            "87a3f2ed6c5441cfb3e1ca34d5863359",
            "53539f8f0db64e84861bc48051fce4a9",
            "78bcffffb5ab4a62afe3e3952b8b61f6",
            "2eb4e4c800ae45298f650fdddb3ba4ff",
            "9f37e8f73c8746fc86fec6731e497663",
            "54e1379648a94464886fe35f14fe3b9b",
            "ec32a150209d4b4a92413f41f0f96cf3",
            "dedd7c22b5b742c2b2f7d9777b3da382",
            "744ec87a53d4401eb1229da509a74bf4",
            "072e116db923432194475e740c2eba32",
            "bbfda9e4115a4856a159aa7077400448",
            "3572d553b20840ab89a91ea719fcd8fe",
            "3b8ed342a9e14c6bbb9b7d8b227fa262",
            "df8f5956a0d74ba5aea038b9b091aa07",
            "7fb9c2ff0c844cd49dda9d5a205e3d45",
            "8201c2dafc1047318e8ad90827eae33d",
            "e18e4fa7abf646b98dac95ff846aea12",
            "d96effd2984443f1b9542d3e8d5ae847",
            "dccc5b75d613424c8ebcf4136ffc6597",
            "263d5e65bbcc42ec988516c8a26ac9c5"
          ]
        },
        "id": "Kwxq7BwxRjaV",
        "outputId": "3b7a6a55-85d1-4fc3-afb0-6b5342a523b9"
      },
      "source": [
        "import torch\n",
        "from torch.utils.data import Dataset\n",
        "from torchvision import datasets\n",
        "from torchvision.transforms import ToTensor, Lambda\n",
        "import matplotlib.pyplot as plt\n",
        "\n",
        "training_data = datasets.FashionMNIST(\n",
        "  root=\"data\",\n",
        "  train=True,\n",
        "  download=True,\n",
        "  transform=ToTensor()\n",
        ")\n",
        "\n",
        "test_data = datasets.FashionMNIST(\n",
        "  root=\"data\",\n",
        "  train=False,\n",
        "  download=True,\n",
        "  transform=ToTensor()\n",
        ")"
      ],
      "execution_count": null,
      "outputs": [
        {
          "output_type": "stream",
          "text": [
            "Downloading http://fashion-mnist.s3-website.eu-central-1.amazonaws.com/train-images-idx3-ubyte.gz\n",
            "Downloading http://fashion-mnist.s3-website.eu-central-1.amazonaws.com/train-images-idx3-ubyte.gz to data/FashionMNIST/raw/train-images-idx3-ubyte.gz\n"
          ],
          "name": "stdout"
        },
        {
          "output_type": "display_data",
          "data": {
            "application/vnd.jupyter.widget-view+json": {
              "model_id": "4777d9a7eeb64b749b422579bc82b567",
              "version_minor": 0,
              "version_major": 2
            },
            "text/plain": [
              "HBox(children=(FloatProgress(value=0.0, max=26421880.0), HTML(value='')))"
            ]
          },
          "metadata": {
            "tags": []
          }
        },
        {
          "output_type": "stream",
          "text": [
            "\n",
            "Extracting data/FashionMNIST/raw/train-images-idx3-ubyte.gz to data/FashionMNIST/raw\n",
            "\n",
            "Downloading http://fashion-mnist.s3-website.eu-central-1.amazonaws.com/train-labels-idx1-ubyte.gz\n",
            "Downloading http://fashion-mnist.s3-website.eu-central-1.amazonaws.com/train-labels-idx1-ubyte.gz to data/FashionMNIST/raw/train-labels-idx1-ubyte.gz\n"
          ],
          "name": "stdout"
        },
        {
          "output_type": "display_data",
          "data": {
            "application/vnd.jupyter.widget-view+json": {
              "model_id": "dad9f25a526242b99f1a9d0312a98fd1",
              "version_minor": 0,
              "version_major": 2
            },
            "text/plain": [
              "HBox(children=(FloatProgress(value=0.0, max=29515.0), HTML(value='')))"
            ]
          },
          "metadata": {
            "tags": []
          }
        },
        {
          "output_type": "stream",
          "text": [
            "\n",
            "Extracting data/FashionMNIST/raw/train-labels-idx1-ubyte.gz to data/FashionMNIST/raw\n",
            "\n",
            "Downloading http://fashion-mnist.s3-website.eu-central-1.amazonaws.com/t10k-images-idx3-ubyte.gz\n",
            "Downloading http://fashion-mnist.s3-website.eu-central-1.amazonaws.com/t10k-images-idx3-ubyte.gz to data/FashionMNIST/raw/t10k-images-idx3-ubyte.gz\n"
          ],
          "name": "stdout"
        },
        {
          "output_type": "display_data",
          "data": {
            "application/vnd.jupyter.widget-view+json": {
              "model_id": "9f37e8f73c8746fc86fec6731e497663",
              "version_minor": 0,
              "version_major": 2
            },
            "text/plain": [
              "HBox(children=(FloatProgress(value=0.0, max=4422102.0), HTML(value='')))"
            ]
          },
          "metadata": {
            "tags": []
          }
        },
        {
          "output_type": "stream",
          "text": [
            "\n",
            "Extracting data/FashionMNIST/raw/t10k-images-idx3-ubyte.gz to data/FashionMNIST/raw\n",
            "\n",
            "Downloading http://fashion-mnist.s3-website.eu-central-1.amazonaws.com/t10k-labels-idx1-ubyte.gz\n",
            "Downloading http://fashion-mnist.s3-website.eu-central-1.amazonaws.com/t10k-labels-idx1-ubyte.gz to data/FashionMNIST/raw/t10k-labels-idx1-ubyte.gz\n"
          ],
          "name": "stdout"
        },
        {
          "output_type": "display_data",
          "data": {
            "application/vnd.jupyter.widget-view+json": {
              "model_id": "3b8ed342a9e14c6bbb9b7d8b227fa262",
              "version_minor": 0,
              "version_major": 2
            },
            "text/plain": [
              "HBox(children=(FloatProgress(value=0.0, max=5148.0), HTML(value='')))"
            ]
          },
          "metadata": {
            "tags": []
          }
        },
        {
          "output_type": "stream",
          "text": [
            "\n",
            "Extracting data/FashionMNIST/raw/t10k-labels-idx1-ubyte.gz to data/FashionMNIST/raw\n",
            "\n"
          ],
          "name": "stdout"
        },
        {
          "output_type": "stream",
          "text": [
            "/usr/local/lib/python3.7/dist-packages/torchvision/datasets/mnist.py:498: UserWarning: The given NumPy array is not writeable, and PyTorch does not support non-writeable tensors. This means you can write to the underlying (supposedly non-writeable) NumPy array using the tensor. You may want to copy the array to protect its data or make it writeable before converting it to a tensor. This type of warning will be suppressed for the rest of this program. (Triggered internally at  /pytorch/torch/csrc/utils/tensor_numpy.cpp:180.)\n",
            "  return torch.from_numpy(parsed.astype(m[2], copy=False)).view(*s)\n"
          ],
          "name": "stderr"
        }
      ]
    },
    {
      "cell_type": "code",
      "metadata": {
        "colab": {
          "base_uri": "https://localhost:8080/",
          "height": 482
        },
        "id": "YkkVeX64Rng0",
        "outputId": "5ae38fb2-8707-47b8-a9f2-aa95e53a57ce"
      },
      "source": [
        "labels_map = {\n",
        "  0: \"T-Shirt\",\n",
        "  1: \"Trouser\",\n",
        "  2: \"Pullover\",\n",
        "  3: \"Dress\",\n",
        "  4: \"Coat\",\n",
        "  5: \"Sandal\",\n",
        "  6: \"Shirt\",\n",
        "  7: \"Sneaker\",\n",
        "  8: \"Bag\",\n",
        "  9: \"Ankle Boot\",\n",
        "}\n",
        "figure = plt.figure(figsize=(8, 8))\n",
        "cols, rows = 3, 3\n",
        "\n",
        "for i in range(1, cols * rows + 1):\n",
        "  sample_idx = torch.randint(len(training_data), size=(1,)).item()\n",
        "  img, label = training_data[sample_idx]\n",
        "  figure.add_subplot(rows, cols, i)\n",
        "  \n",
        "  plt.title(labels_map[label])\n",
        "  plt.axis(\"off\")\n",
        "  plt.imshow(img.squeeze(), cmap=\"gray\")\n",
        "  \n",
        "plt.show()"
      ],
      "execution_count": null,
      "outputs": [
        {
          "output_type": "display_data",
          "data": {
            "image/png": "[encoded data removed]",
            "text/plain": [
              "<Figure size 576x576 with 9 Axes>"
            ]
          },
          "metadata": {
            "tags": [],
            "needs_background": "light"
          }
        }
      ]
    },
    {
      "cell_type": "code",
      "metadata": {
        "id": "gFkaCCRjSPVP"
      },
      "source": [
        "import os\n",
        "import pandas as pd\n",
        "import torchvision.io as tvio\n",
        "class CustomImageDataset(Dataset):\n",
        "  def init(self, annotations_file, img_dir, transform=None, target_transform=None):\n",
        "    self.img_labels = pd.read_csv(annotations_file)\n",
        "    self.img_dir = img_dir\n",
        "    self.transform = transform\n",
        "    self.target_transform = target_transform \n",
        "\t\n",
        "  def len(self):\n",
        "    return len(self.img_labels)\n",
        "\n",
        "  def getitem(self, idx):\n",
        "    img_path = os.path.join(self.img_dir, self.img_labels.iloc[idx, 0])\n",
        "    image = tvio.read_image(img_path)\n",
        "    label = self.img_labels.iloc[idx, 1]\n",
        "    \n",
        "    if self.transform:\n",
        "      image = self.transform(image)\n",
        "      \n",
        "    if self.target_transform:\n",
        "      label = self.target_transform(label)\n",
        "      sample = {\"image\": image, \"label\": label}\n",
        "\n",
        "    return sample"
      ],
      "execution_count": null,
      "outputs": []
    },
    {
      "cell_type": "code",
      "metadata": {
        "id": "aX9bm4M5SfDn"
      },
      "source": [
        "from torch.utils.data import DataLoader\n",
        "train_dataloader = DataLoader(training_data, batch_size=64, shuffle=True)\n",
        "test_dataloader = DataLoader(test_data, batch_size=64, shuffle=True)"
      ],
      "execution_count": null,
      "outputs": []
    },
    {
      "cell_type": "code",
      "metadata": {
        "colab": {
          "base_uri": "https://localhost:8080/",
          "height": 316
        },
        "id": "GUWWxqhbShVu",
        "outputId": "9380e6ed-dd59-467d-930a-e71bb66e0fc1"
      },
      "source": [
        "# Display image and label.\n",
        "train_features, train_labels = next(iter(train_dataloader))\n",
        "print(f\"Feature batch shape: {train_features.size()}\")\n",
        "print(f\"Labels batch shape: {train_labels.size()}\")\n",
        "\n",
        "img = train_features[0].squeeze()\n",
        "label = train_labels[0]\n",
        "plt.imshow(img, cmap=\"gray\")\n",
        "plt.show()\n",
        "print(f\"Label: {label}\")"
      ],
      "execution_count": null,
      "outputs": [
        {
          "output_type": "stream",
          "text": [
            "Feature batch shape: torch.Size([64, 1, 28, 28])\n",
            "Labels batch shape: torch.Size([64])\n"
          ],
          "name": "stdout"
        },
        {
          "output_type": "display_data",
          "data": {
            "image/png": "[encoded data removed]",
            "text/plain": [
              "<Figure size 432x288 with 1 Axes>"
            ]
          },
          "metadata": {
            "tags": [],
            "needs_background": "light"
          }
        },
        {
          "output_type": "stream",
          "text": [
            "Label: 8\n"
          ],
          "name": "stdout"
        }
      ]
    },
    {
      "cell_type": "code",
      "metadata": {
        "colab": {
          "base_uri": "https://localhost:8080/"
        },
        "id": "9WAjTmZiVarU",
        "outputId": "9545f824-8e20-4c16-9279-76e2a2bd05fb"
      },
      "source": [
        "from torchvision import datasets\n",
        "from torchvision.transforms import ToTensor, Lambda\n",
        "ds = datasets.FashionMNIST(\n",
        "    root = \"data\",\n",
        "    train=True,\n",
        "    download=True,\n",
        "    transform = ToTensor(),\n",
        "      target_transform=Lambda(lambda y: torch.zeros(10, dtype=torch.float).scatter_(0, torch.tensor(y), value=1))\n",
        ")\n",
        "\n",
        "ds\n"
      ],
      "execution_count": null,
      "outputs": [
        {
          "output_type": "execute_result",
          "data": {
            "text/plain": [
              "Dataset FashionMNIST\n",
              "    Number of datapoints: 60000\n",
              "    Root location: data\n",
              "    Split: Train\n",
              "    StandardTransform\n",
              "Transform: ToTensor()\n",
              "Target transform: Lambda()"
            ]
          },
          "metadata": {
            "tags": []
          },
          "execution_count": 18
        }
      ]
    },
    {
      "cell_type": "code",
      "metadata": {
        "colab": {
          "base_uri": "https://localhost:8080/"
        },
        "id": "Tt54rw71Zakx",
        "outputId": "30594b54-4426-4c4d-ed43-f2431b5ebba1"
      },
      "source": [
        "import os\n",
        "import torch\n",
        "\n",
        "from torch import nn\n",
        "from torch.utils.data import DataLoader\n",
        "from torchvision import datasets, transforms\n",
        "\n",
        "device = 'cuda' if torch.cuda.is_available() else 'cpu'\n",
        "print ('using {} device'.format(device))"
      ],
      "execution_count": null,
      "outputs": [
        {
          "output_type": "stream",
          "text": [
            "using cpu device\n"
          ],
          "name": "stdout"
        }
      ]
    },
    {
      "cell_type": "code",
      "metadata": {
        "colab": {
          "base_uri": "https://localhost:8080/"
        },
        "id": "owYR-zdUZy88",
        "outputId": "c66d173b-e93e-4bf1-d3d7-73051621b657"
      },
      "source": [
        "class NN (nn.Module):\n",
        "  def __init__ (self):\n",
        "    super (NN, self).__init__()\n",
        "    self.flatten = nn.Flatten()\n",
        "    self.linear_relu_stack = nn.Sequential(\n",
        "        nn.Linear(28*28, 512),\n",
        "        nn.ReLU(),\n",
        "        nn.Linear(512, 512),\n",
        "        nn.ReLU(),\n",
        "        nn.Linear(512, 10),\n",
        "        nn.ReLU()\n",
        "    )\n",
        "  def forward(self, x):\n",
        "    x = self.flatten(x)\n",
        "    logits = self.linear_relu_stack(x)\n",
        "    return logits\n",
        "\n",
        "model = NN().to(device)\n",
        "print(model)"
      ],
      "execution_count": null,
      "outputs": [
        {
          "output_type": "stream",
          "text": [
            "NN(\n",
            "  (flatten): Flatten(start_dim=1, end_dim=-1)\n",
            "  (linear_relu_stack): Sequential(\n",
            "    (0): Linear(in_features=784, out_features=512, bias=True)\n",
            "    (1): ReLU()\n",
            "    (2): Linear(in_features=512, out_features=512, bias=True)\n",
            "    (3): ReLU()\n",
            "    (4): Linear(in_features=512, out_features=10, bias=True)\n",
            "    (5): ReLU()\n",
            "  )\n",
            ")\n"
          ],
          "name": "stdout"
        }
      ]
    },
    {
      "cell_type": "code",
      "metadata": {
        "colab": {
          "base_uri": "https://localhost:8080/"
        },
        "id": "2b4_Lrp5azI6",
        "outputId": "d5f5308f-8b44-46db-bc08-0217571c75ec"
      },
      "source": [
        "x = torch.rand(1, 28, 28, device = device)\n",
        "logits = model(x)\n",
        "pred_prob = nn.Softmax(dim=1)(logits)\n",
        "y_pred = pred_prob.argmax(1)\n",
        "print(f\"PredictedClass:{y_pred}\")"
      ],
      "execution_count": null,
      "outputs": [
        {
          "output_type": "stream",
          "text": [
            "PredictedClass:tensor([7])\n"
          ],
          "name": "stdout"
        }
      ]
    },
    {
      "cell_type": "code",
      "metadata": {
        "colab": {
          "base_uri": "https://localhost:8080/"
        },
        "id": "B08CIKf3bJge",
        "outputId": "744553ec-f30f-4549-92ed-a9c4c3ce2e24"
      },
      "source": [
        "i_img = torch.rand(3, 28, 28)\n",
        "print(i_img, i_img.size())"
      ],
      "execution_count": null,
      "outputs": [
        {
          "output_type": "stream",
          "text": [
            "tensor([[[0.5742, 0.5379, 0.9749,  ..., 0.1137, 0.7909, 0.5738],\n",
            "         [0.1173, 0.6637, 0.3010,  ..., 0.2253, 0.7626, 0.4375],\n",
            "         [0.6869, 0.2637, 0.2464,  ..., 0.7616, 0.8597, 0.7751],\n",
            "         ...,\n",
            "         [0.8934, 0.3313, 0.3034,  ..., 0.8540, 0.2330, 0.1033],\n",
            "         [0.5837, 0.4188, 0.1367,  ..., 0.7492, 0.3881, 0.4149],\n",
            "         [0.4066, 0.7482, 0.1827,  ..., 0.4629, 0.6981, 0.8055]],\n",
            "\n",
            "        [[0.3885, 0.6342, 0.0737,  ..., 0.2106, 0.2279, 0.0504],\n",
            "         [0.5505, 0.2397, 0.7352,  ..., 0.1314, 0.0544, 0.2268],\n",
            "         [0.8964, 0.1633, 0.7154,  ..., 0.8018, 0.2412, 0.5509],\n",
            "         ...,\n",
            "         [0.1859, 0.1975, 0.8865,  ..., 0.3828, 0.2677, 0.3057],\n",
            "         [0.4268, 0.1974, 0.1703,  ..., 0.0266, 0.7142, 0.5046],\n",
            "         [0.1766, 0.2867, 0.2435,  ..., 0.6240, 0.5527, 0.0994]],\n",
            "\n",
            "        [[0.0234, 0.9397, 0.0414,  ..., 0.1103, 0.6826, 0.9925],\n",
            "         [0.2461, 0.1970, 0.8468,  ..., 0.9752, 0.5204, 0.4348],\n",
            "         [0.5238, 0.4690, 0.5949,  ..., 0.4133, 0.8194, 0.0530],\n",
            "         ...,\n",
            "         [0.3321, 0.8358, 0.9733,  ..., 0.3733, 0.6347, 0.5245],\n",
            "         [0.2318, 0.0056, 0.5708,  ..., 0.7746, 0.7814, 0.8365],\n",
            "         [0.5658, 0.5380, 0.5356,  ..., 0.9133, 0.9809, 0.0694]]]) torch.Size([3, 28, 28])\n"
          ],
          "name": "stdout"
        }
      ]
    },
    {
      "cell_type": "code",
      "metadata": {
        "colab": {
          "base_uri": "https://localhost:8080/"
        },
        "id": "Wz_bLZXrbP86",
        "outputId": "42711415-e74d-4dee-ca9e-e7542cbbc105"
      },
      "source": [
        "flatten = nn.Flatten()\n",
        "flat_img = flatten(i_img)\n",
        "print(flat_img.size())"
      ],
      "execution_count": null,
      "outputs": [
        {
          "output_type": "stream",
          "text": [
            "torch.Size([3, 784])\n"
          ],
          "name": "stdout"
        }
      ]
    },
    {
      "cell_type": "code",
      "metadata": {
        "colab": {
          "base_uri": "https://localhost:8080/"
        },
        "id": "yniW_MWUbjGK",
        "outputId": "04e16e45-7414-4152-de9d-2e01ffffa9c1"
      },
      "source": [
        "layer1 = nn.Linear(in_features=28*28, out_features=20)\n",
        "hid1 = layer1(flat_img)\n",
        "print(hid1.size())"
      ],
      "execution_count": null,
      "outputs": [
        {
          "output_type": "stream",
          "text": [
            "torch.Size([3, 20])\n"
          ],
          "name": "stdout"
        }
      ]
    },
    {
      "cell_type": "code",
      "metadata": {
        "colab": {
          "base_uri": "https://localhost:8080/"
        },
        "id": "r4qiwyYsbmCU",
        "outputId": "d0e38391-704f-4e4b-9e46-4173beb49ef3"
      },
      "source": [
        "print(f\"Before ReLU: {hid1}\\n\\n\")\n",
        "hid1 = nn.ReLU()(hid1)\n",
        "print(f\"After ReLU: {hid1}\\n\\n\")"
      ],
      "execution_count": null,
      "outputs": [
        {
          "output_type": "stream",
          "text": [
            "Before ReLU: tensor([[-2.4922e-01, -1.4291e-01, -5.3488e-01,  4.8082e-02,  3.5369e-01,\n",
            "         -2.5717e-01, -1.9660e-01,  2.5209e-01,  1.9805e-01,  6.4724e-02,\n",
            "          7.2873e-02, -5.2812e-01, -6.6345e-01,  3.8247e-02,  2.7833e-01,\n",
            "          5.1796e-01,  2.3342e-01, -6.0438e-02, -4.1647e-01, -1.6389e-01],\n",
            "        [-1.1278e-01, -3.1843e-01,  4.8205e-02,  4.8656e-04,  4.0655e-01,\n",
            "         -3.2956e-01, -1.2238e-01,  5.0148e-01,  4.8836e-01, -2.8087e-01,\n",
            "         -2.5090e-01, -5.9889e-01, -2.9690e-01,  2.6029e-01,  2.3368e-01,\n",
            "          5.2903e-01,  1.2009e-01,  2.4339e-01, -5.0056e-01, -3.1616e-01],\n",
            "        [-2.6501e-01, -5.6126e-01, -3.6284e-02,  1.4952e-01,  4.3780e-01,\n",
            "         -2.2941e-01, -4.4378e-01,  4.3479e-01,  1.8734e-01,  1.3449e-02,\n",
            "         -1.4829e-02, -6.6431e-01, -6.6801e-02, -1.7656e-01, -1.7055e-02,\n",
            "          6.6589e-01, -2.4593e-01, -1.4553e-02, -2.5711e-01, -3.4210e-01]],\n",
            "       grad_fn=<AddmmBackward>)\n",
            "\n",
            "\n",
            "After ReLU: tensor([[0.0000e+00, 0.0000e+00, 0.0000e+00, 4.8082e-02, 3.5369e-01, 0.0000e+00,\n",
            "         0.0000e+00, 2.5209e-01, 1.9805e-01, 6.4724e-02, 7.2873e-02, 0.0000e+00,\n",
            "         0.0000e+00, 3.8247e-02, 2.7833e-01, 5.1796e-01, 2.3342e-01, 0.0000e+00,\n",
            "         0.0000e+00, 0.0000e+00],\n",
            "        [0.0000e+00, 0.0000e+00, 4.8205e-02, 4.8656e-04, 4.0655e-01, 0.0000e+00,\n",
            "         0.0000e+00, 5.0148e-01, 4.8836e-01, 0.0000e+00, 0.0000e+00, 0.0000e+00,\n",
            "         0.0000e+00, 2.6029e-01, 2.3368e-01, 5.2903e-01, 1.2009e-01, 2.4339e-01,\n",
            "         0.0000e+00, 0.0000e+00],\n",
            "        [0.0000e+00, 0.0000e+00, 0.0000e+00, 1.4952e-01, 4.3780e-01, 0.0000e+00,\n",
            "         0.0000e+00, 4.3479e-01, 1.8734e-01, 1.3449e-02, 0.0000e+00, 0.0000e+00,\n",
            "         0.0000e+00, 0.0000e+00, 0.0000e+00, 6.6589e-01, 0.0000e+00, 0.0000e+00,\n",
            "         0.0000e+00, 0.0000e+00]], grad_fn=<ReluBackward0>)\n",
            "\n",
            "\n"
          ],
          "name": "stdout"
        }
      ]
    },
    {
      "cell_type": "code",
      "metadata": {
        "colab": {
          "base_uri": "https://localhost:8080/"
        },
        "id": "9R8tFt8mb-p3",
        "outputId": "bd131ad6-aa7e-4f16-ad13-accf09499650"
      },
      "source": [
        "seq_modules = nn.Sequential(\n",
        "    flatten, layer1, nn.ReLU(), nn.Linear(20, 10)\n",
        ")\n",
        "print(seq_modules)\n",
        "i_img = torch.rand(3, 28, 28)\n",
        "logits = seq_modules(i_img)\n",
        "print(logits)"
      ],
      "execution_count": null,
      "outputs": [
        {
          "output_type": "stream",
          "text": [
            "Sequential(\n",
            "  (0): Flatten(start_dim=1, end_dim=-1)\n",
            "  (1): Linear(in_features=784, out_features=20, bias=True)\n",
            "  (2): ReLU()\n",
            "  (3): Linear(in_features=20, out_features=10, bias=True)\n",
            ")\n",
            "tensor([[-0.0781, -0.1868,  0.1066,  0.0420,  0.0896,  0.0717, -0.1948, -0.1986,\n",
            "         -0.0918, -0.2550],\n",
            "        [-0.1059, -0.1761,  0.1663,  0.0841, -0.0102,  0.1266, -0.0907, -0.2536,\n",
            "         -0.2349, -0.2901],\n",
            "        [-0.1292, -0.2254,  0.1337,  0.1825,  0.1032, -0.0130, -0.1262, -0.2986,\n",
            "         -0.1642, -0.2035]], grad_fn=<AddmmBackward>)\n"
          ],
          "name": "stdout"
        }
      ]
    },
    {
      "cell_type": "code",
      "metadata": {
        "colab": {
          "base_uri": "https://localhost:8080/"
        },
        "id": "rDzErGHdcfSN",
        "outputId": "b4dc94a0-dcce-458b-9a87-3368b48b3b38"
      },
      "source": [
        "softmax=nn.Softmax(dim=1)\n",
        "pred_prob = softmax(logits)\n",
        "print(softmax, \"\\n\", pred_prob)"
      ],
      "execution_count": null,
      "outputs": [
        {
          "output_type": "stream",
          "text": [
            "Softmax(dim=1) \n",
            " tensor([[0.0983, 0.0882, 0.1182, 0.1109, 0.1163, 0.1142, 0.0875, 0.0871, 0.0970,\n",
            "         0.0824],\n",
            "        [0.0961, 0.0896, 0.1262, 0.1162, 0.1058, 0.1213, 0.0976, 0.0829, 0.0845,\n",
            "         0.0799],\n",
            "        [0.0934, 0.0849, 0.1215, 0.1276, 0.1179, 0.1050, 0.0937, 0.0789, 0.0902,\n",
            "         0.0868]], grad_fn=<SoftmaxBackward>)\n"
          ],
          "name": "stdout"
        }
      ]
    },
    {
      "cell_type": "code",
      "metadata": {
        "colab": {
          "base_uri": "https://localhost:8080/",
          "height": 129
        },
        "id": "qOKkU6qzcn4X",
        "outputId": "cadd59c9-d312-4f49-936f-867ac3cdd8b2"
      },
      "source": [
        "print(\"model structure : \", model, \"\\n\\n\")\n",
        "for name, param in model.named_parameters():\n",
        "  print(\"Layer : \", name, \" | Size : \", param.size(), \"| Values : \" param[:2]\" \\n\")"
      ],
      "execution_count": null,
      "outputs": [
        {
          "output_type": "error",
          "ename": "SyntaxError",
          "evalue": "ignored",
          "traceback": [
            "\u001b[0;36m  File \u001b[0;32m\"<ipython-input-40-cee61e288424>\"\u001b[0;36m, line \u001b[0;32m3\u001b[0m\n\u001b[0;31m    print(\"Layer : \", name, \" | Size : \", param.size(), \"| Values : \" param[:2]\" \\n\")\u001b[0m\n\u001b[0m                                                                          ^\u001b[0m\n\u001b[0;31mSyntaxError\u001b[0m\u001b[0;31m:\u001b[0m invalid syntax\n"
          ]
        }
      ]
    }
  ]
}