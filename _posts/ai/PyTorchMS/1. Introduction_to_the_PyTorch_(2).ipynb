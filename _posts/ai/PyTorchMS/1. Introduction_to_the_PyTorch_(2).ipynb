{
  "nbformat": 4,
  "nbformat_minor": 0,
  "metadata": {
    "colab": {
      "name": "1.Introduction to the PyTorch (2).ipynb",
      "provenance": [],
      "collapsed_sections": [],
      "authorship_tag": "ABX9TyPE1l0RAQScDUYzRO/qSz5k",
      "include_colab_link": true
    },
    "kernelspec": {
      "name": "python3",
      "display_name": "Python 3"
    },
    "language_info": {
      "name": "python"
    },
    "widgets": {
      "application/vnd.jupyter.widget-state+json": {
        "e2589293ce3f4acd9153270067ce8629": {
          "model_module": "@jupyter-widgets/controls",
          "model_name": "HBoxModel",
          "state": {
            "_view_name": "HBoxView",
            "_dom_classes": [],
            "_model_name": "HBoxModel",
            "_view_module": "@jupyter-widgets/controls",
            "_model_module_version": "1.5.0",
            "_view_count": null,
            "_view_module_version": "1.5.0",
            "box_style": "",
            "layout": "IPY_MODEL_f4ba420f42424f8faa986a2d5c1eea25",
            "_model_module": "@jupyter-widgets/controls",
            "children": [
              "IPY_MODEL_91c207dd52264debafa20d0f9fc69e6c",
              "IPY_MODEL_42b8cbcb2afd426f8f5babe3bc190cc1"
            ]
          }
        },
        "f4ba420f42424f8faa986a2d5c1eea25": {
          "model_module": "@jupyter-widgets/base",
          "model_name": "LayoutModel",
          "state": {
            "_view_name": "LayoutView",
            "grid_template_rows": null,
            "right": null,
            "justify_content": null,
            "_view_module": "@jupyter-widgets/base",
            "overflow": null,
            "_model_module_version": "1.2.0",
            "_view_count": null,
            "flex_flow": null,
            "width": null,
            "min_width": null,
            "border": null,
            "align_items": null,
            "bottom": null,
            "_model_module": "@jupyter-widgets/base",
            "top": null,
            "grid_column": null,
            "overflow_y": null,
            "overflow_x": null,
            "grid_auto_flow": null,
            "grid_area": null,
            "grid_template_columns": null,
            "flex": null,
            "_model_name": "LayoutModel",
            "justify_items": null,
            "grid_row": null,
            "max_height": null,
            "align_content": null,
            "visibility": null,
            "align_self": null,
            "height": null,
            "min_height": null,
            "padding": null,
            "grid_auto_rows": null,
            "grid_gap": null,
            "max_width": null,
            "order": null,
            "_view_module_version": "1.2.0",
            "grid_template_areas": null,
            "object_position": null,
            "object_fit": null,
            "grid_auto_columns": null,
            "margin": null,
            "display": null,
            "left": null
          }
        },
        "91c207dd52264debafa20d0f9fc69e6c": {
          "model_module": "@jupyter-widgets/controls",
          "model_name": "FloatProgressModel",
          "state": {
            "_view_name": "ProgressView",
            "style": "IPY_MODEL_80789beb4aea4bd3bd14102bc9307962",
            "_dom_classes": [],
            "description": "100%",
            "_model_name": "FloatProgressModel",
            "bar_style": "success",
            "max": 553433881,
            "_view_module": "@jupyter-widgets/controls",
            "_model_module_version": "1.5.0",
            "value": 553433881,
            "_view_count": null,
            "_view_module_version": "1.5.0",
            "orientation": "horizontal",
            "min": 0,
            "description_tooltip": null,
            "_model_module": "@jupyter-widgets/controls",
            "layout": "IPY_MODEL_af75849c098a47019b61bfef4e24e811"
          }
        },
        "42b8cbcb2afd426f8f5babe3bc190cc1": {
          "model_module": "@jupyter-widgets/controls",
          "model_name": "HTMLModel",
          "state": {
            "_view_name": "HTMLView",
            "style": "IPY_MODEL_22f388577a2a4fa1ade716fd8a9cd557",
            "_dom_classes": [],
            "description": "",
            "_model_name": "HTMLModel",
            "placeholder": "​",
            "_view_module": "@jupyter-widgets/controls",
            "_model_module_version": "1.5.0",
            "value": " 528M/528M [00:07&lt;00:00, 78.3MB/s]",
            "_view_count": null,
            "_view_module_version": "1.5.0",
            "description_tooltip": null,
            "_model_module": "@jupyter-widgets/controls",
            "layout": "IPY_MODEL_46a7b4541f8a4ca8b64171b0d592c4f3"
          }
        },
        "80789beb4aea4bd3bd14102bc9307962": {
          "model_module": "@jupyter-widgets/controls",
          "model_name": "ProgressStyleModel",
          "state": {
            "_view_name": "StyleView",
            "_model_name": "ProgressStyleModel",
            "description_width": "initial",
            "_view_module": "@jupyter-widgets/base",
            "_model_module_version": "1.5.0",
            "_view_count": null,
            "_view_module_version": "1.2.0",
            "bar_color": null,
            "_model_module": "@jupyter-widgets/controls"
          }
        },
        "af75849c098a47019b61bfef4e24e811": {
          "model_module": "@jupyter-widgets/base",
          "model_name": "LayoutModel",
          "state": {
            "_view_name": "LayoutView",
            "grid_template_rows": null,
            "right": null,
            "justify_content": null,
            "_view_module": "@jupyter-widgets/base",
            "overflow": null,
            "_model_module_version": "1.2.0",
            "_view_count": null,
            "flex_flow": null,
            "width": null,
            "min_width": null,
            "border": null,
            "align_items": null,
            "bottom": null,
            "_model_module": "@jupyter-widgets/base",
            "top": null,
            "grid_column": null,
            "overflow_y": null,
            "overflow_x": null,
            "grid_auto_flow": null,
            "grid_area": null,
            "grid_template_columns": null,
            "flex": null,
            "_model_name": "LayoutModel",
            "justify_items": null,
            "grid_row": null,
            "max_height": null,
            "align_content": null,
            "visibility": null,
            "align_self": null,
            "height": null,
            "min_height": null,
            "padding": null,
            "grid_auto_rows": null,
            "grid_gap": null,
            "max_width": null,
            "order": null,
            "_view_module_version": "1.2.0",
            "grid_template_areas": null,
            "object_position": null,
            "object_fit": null,
            "grid_auto_columns": null,
            "margin": null,
            "display": null,
            "left": null
          }
        },
        "22f388577a2a4fa1ade716fd8a9cd557": {
          "model_module": "@jupyter-widgets/controls",
          "model_name": "DescriptionStyleModel",
          "state": {
            "_view_name": "StyleView",
            "_model_name": "DescriptionStyleModel",
            "description_width": "",
            "_view_module": "@jupyter-widgets/base",
            "_model_module_version": "1.5.0",
            "_view_count": null,
            "_view_module_version": "1.2.0",
            "_model_module": "@jupyter-widgets/controls"
          }
        },
        "46a7b4541f8a4ca8b64171b0d592c4f3": {
          "model_module": "@jupyter-widgets/base",
          "model_name": "LayoutModel",
          "state": {
            "_view_name": "LayoutView",
            "grid_template_rows": null,
            "right": null,
            "justify_content": null,
            "_view_module": "@jupyter-widgets/base",
            "overflow": null,
            "_model_module_version": "1.2.0",
            "_view_count": null,
            "flex_flow": null,
            "width": null,
            "min_width": null,
            "border": null,
            "align_items": null,
            "bottom": null,
            "_model_module": "@jupyter-widgets/base",
            "top": null,
            "grid_column": null,
            "overflow_y": null,
            "overflow_x": null,
            "grid_auto_flow": null,
            "grid_area": null,
            "grid_template_columns": null,
            "flex": null,
            "_model_name": "LayoutModel",
            "justify_items": null,
            "grid_row": null,
            "max_height": null,
            "align_content": null,
            "visibility": null,
            "align_self": null,
            "height": null,
            "min_height": null,
            "padding": null,
            "grid_auto_rows": null,
            "grid_gap": null,
            "max_width": null,
            "order": null,
            "_view_module_version": "1.2.0",
            "grid_template_areas": null,
            "object_position": null,
            "object_fit": null,
            "grid_auto_columns": null,
            "margin": null,
            "display": null,
            "left": null
          }
        }
      }
    }
  },
  "cells": [
    {
      "cell_type": "markdown",
      "metadata": {
        "id": "view-in-github",
        "colab_type": "text"
      },
      "source": [
        "<a href=\"https://colab.research.google.com/github/underthelights/underthelights.github.io/blob/main/_posts/ai/PyTorchMS/1.%20Introduction_to_the_PyTorch_(2).ipynb\" target=\"_parent\"><img src=\"https://colab.research.google.com/assets/colab-badge.svg\" alt=\"Open In Colab\"/></a>"
      ]
    },
    {
      "cell_type": "markdown",
      "metadata": {
        "id": "20eSpLh8khlp"
      },
      "source": [
        "Automatic Differentiation\n"
      ]
    },
    {
      "cell_type": "code",
      "metadata": {
        "id": "og6sKeCuj7la",
        "colab": {
          "base_uri": "https://localhost:8080/"
        },
        "outputId": "ecbd0e1d-3397-4930-a387-9a0b02997997"
      },
      "source": [
        "import torch\n",
        "x = torch.ones(5)\n",
        "y = torch.zeros(3)\n",
        "w = torch.randn(5,3, requires_grad=True)\n",
        "b = torch.randn(3, requires_grad=True)\n",
        "z = torch.matmul(x,w+b)\n",
        "\n",
        "loss = torch.nn.functional.binary_cross_entropy_with_logits(z,y)\n",
        "x,y,w,b,z,loss"
      ],
      "execution_count": null,
      "outputs": [
        {
          "output_type": "execute_result",
          "data": {
            "text/plain": [
              "(tensor([1., 1., 1., 1., 1.]),\n",
              " tensor([0., 0., 0.]),\n",
              " tensor([[-1.7438,  0.4070, -1.4434],\n",
              "         [ 0.2997, -0.2521, -0.1173],\n",
              "         [ 0.5596,  1.5509,  0.1543],\n",
              "         [-0.9715,  0.7192, -0.9757],\n",
              "         [-0.8247,  2.3340, -0.2798]], requires_grad=True),\n",
              " tensor([0.6498, 1.0947, 0.5866], requires_grad=True),\n",
              " tensor([ 0.5681, 10.2327,  0.2710], grad_fn=<SqueezeBackward3>),\n",
              " tensor(4.0292, grad_fn=<BinaryCrossEntropyWithLogitsBackward>))"
            ]
          },
          "metadata": {
            "tags": []
          },
          "execution_count": 18
        }
      ]
    },
    {
      "cell_type": "code",
      "metadata": {
        "colab": {
          "base_uri": "https://localhost:8080/"
        },
        "id": "Qqf5Zm5fbDga",
        "outputId": "d69f4bde-f105-47e8-aff5-6018c58ab35a"
      },
      "source": [
        "print('Gradient function for z =',z.grad_fn)\n",
        "print('Gradient function for loss =', loss.grad_fn)"
      ],
      "execution_count": null,
      "outputs": [
        {
          "output_type": "stream",
          "text": [
            "Gradient function for z = <SqueezeBackward3 object at 0x7f0eb8f1d590>\n",
            "Gradient function for loss = <BinaryCrossEntropyWithLogitsBackward object at 0x7f0eb8f1da10>\n"
          ],
          "name": "stdout"
        }
      ]
    },
    {
      "cell_type": "code",
      "metadata": {
        "colab": {
          "base_uri": "https://localhost:8080/"
        },
        "id": "JyHhGZVtbNsh",
        "outputId": "e04c5180-36e7-41da-870b-28f801ab54d2"
      },
      "source": [
        "loss.backward()\n",
        "print(w.grad)\n",
        "print(b.grad)"
      ],
      "execution_count": null,
      "outputs": [
        {
          "output_type": "stream",
          "text": [
            "tensor([[0.2128, 0.3333, 0.1891],\n",
            "        [0.2128, 0.3333, 0.1891],\n",
            "        [0.2128, 0.3333, 0.1891],\n",
            "        [0.2128, 0.3333, 0.1891],\n",
            "        [0.2128, 0.3333, 0.1891]])\n",
            "tensor([1.0639, 1.6666, 0.9456])\n"
          ],
          "name": "stdout"
        }
      ]
    },
    {
      "cell_type": "code",
      "metadata": {
        "colab": {
          "base_uri": "https://localhost:8080/"
        },
        "id": "K4T0XNYKbW11",
        "outputId": "78750ef0-6406-4207-9aa5-c03c4411fef9"
      },
      "source": [
        "z = torch.matmul(x,w)+b\n",
        "print(z.requires_grad)\n",
        "with torch.no_grad():\n",
        "  z = torch.matmul(x,w)+b\n",
        "\n",
        "print(z.requires_grad)"
      ],
      "execution_count": null,
      "outputs": [
        {
          "output_type": "stream",
          "text": [
            "True\n",
            "False\n"
          ],
          "name": "stdout"
        }
      ]
    },
    {
      "cell_type": "code",
      "metadata": {
        "colab": {
          "base_uri": "https://localhost:8080/"
        },
        "id": "bWyUFbhNbimq",
        "outputId": "0912b33e-209a-4657-fcbf-a985fd649c3a"
      },
      "source": [
        "z = torch.matmul(x,w)+b\n",
        "z_det = z.detach()\n",
        "print(z_det.requires_grad)"
      ],
      "execution_count": null,
      "outputs": [
        {
          "output_type": "stream",
          "text": [
            "False\n"
          ],
          "name": "stdout"
        }
      ]
    },
    {
      "cell_type": "code",
      "metadata": {
        "id": "d9rpB2CybwX0",
        "colab": {
          "base_uri": "https://localhost:8080/"
        },
        "outputId": "478147c2-ea52-41d6-a9e8-fee31bbc01d8"
      },
      "source": [
        "inp = torch.eye(5, requires_grad=True)\n",
        "out = (inp+1). pow(2)\n",
        "out.backward(torch.ones_like(inp), retain_graph = True)\n",
        "print(\"first call\\n\", inp.grad)\n",
        "\n",
        "out.backward(torch.ones_like(inp), retain_graph = True)\n",
        "print(\"second call\\n\", inp.grad)\n",
        "\n",
        "inp.grad.zero_()\n",
        "out.backward(torch.ones_like(inp), retain_graph = True)\n",
        "print(\"\\n call after zering grad.\\n\", inp.grad)\n",
        "\n",
        "out.backward(torch.ones_like(inp), retain_graph = True)\n",
        "print(\"second call\\n\", inp.grad)\n",
        "\n",
        "\n",
        "out.backward(torch.ones_like(inp), retain_graph = True)\n",
        "print(\"third call\\n\", inp.grad)\n"
      ],
      "execution_count": null,
      "outputs": [
        {
          "output_type": "stream",
          "text": [
            "first call\n",
            " tensor([[4., 2., 2., 2., 2.],\n",
            "        [2., 4., 2., 2., 2.],\n",
            "        [2., 2., 4., 2., 2.],\n",
            "        [2., 2., 2., 4., 2.],\n",
            "        [2., 2., 2., 2., 4.]])\n",
            "second call\n",
            " tensor([[8., 4., 4., 4., 4.],\n",
            "        [4., 8., 4., 4., 4.],\n",
            "        [4., 4., 8., 4., 4.],\n",
            "        [4., 4., 4., 8., 4.],\n",
            "        [4., 4., 4., 4., 8.]])\n",
            "\n",
            " call after zering grad.\n",
            " tensor([[4., 2., 2., 2., 2.],\n",
            "        [2., 4., 2., 2., 2.],\n",
            "        [2., 2., 4., 2., 2.],\n",
            "        [2., 2., 2., 4., 2.],\n",
            "        [2., 2., 2., 2., 4.]])\n",
            "second call\n",
            " tensor([[8., 4., 4., 4., 4.],\n",
            "        [4., 8., 4., 4., 4.],\n",
            "        [4., 4., 8., 4., 4.],\n",
            "        [4., 4., 4., 8., 4.],\n",
            "        [4., 4., 4., 4., 8.]])\n",
            "third call\n",
            " tensor([[12.,  6.,  6.,  6.,  6.],\n",
            "        [ 6., 12.,  6.,  6.,  6.],\n",
            "        [ 6.,  6., 12.,  6.,  6.],\n",
            "        [ 6.,  6.,  6., 12.,  6.],\n",
            "        [ 6.,  6.,  6.,  6., 12.]])\n"
          ],
          "name": "stdout"
        }
      ]
    },
    {
      "cell_type": "code",
      "metadata": {
        "colab": {
          "base_uri": "https://localhost:8080/"
        },
        "id": "imyT_sga8ock",
        "outputId": "406f1968-ca9f-4b4c-cb91-0233facc575b"
      },
      "source": [
        "import torch\n",
        "from torch import nn\n",
        "from torch.utils.data import DataLoader\n",
        "from torchvision import datasets \n",
        "from torchvision.transforms import ToTensor, Lambda\n",
        "\n",
        "training_data = datasets.FashionMNIST(\n",
        "    root = \"data\",\n",
        "    train =True,\n",
        "    download=True,\n",
        "    transform=ToTensor()\n",
        ")\n",
        "test_data = datasets.FashionMNIST(\n",
        "    root = \"data\",\n",
        "    train =False,\n",
        "    download=True,\n",
        "    transform=ToTensor()\n",
        ")\n",
        "\n",
        "train_dataloader = DataLoader(training_data, batch_size = 64)\n",
        "test_dataloader = DataLoader(test_data, batch_size = 64)\n",
        "\n",
        "class NN(nn.Module):\n",
        "  def __init__(self):\n",
        "    super(NN, self).__init__()\n",
        "    self.flatten = nn.Flatten()\n",
        "    self.linear_relu_stack = nn.Sequential(\n",
        "        nn.Linear(28*28, 512),\n",
        "        nn.ReLU(),\n",
        "        nn.Linear(512, 512),\n",
        "        nn.ReLU(),\n",
        "        nn.Linear(512, 10),\n",
        "        nn.ReLU()\n",
        "    )\n",
        "  def fwd(self, x):\n",
        "    x = self.flatten(x)\n",
        "    logits = self.linear_relu_stack(x)\n",
        "    return logits\n",
        "\n",
        "model = NN()\n",
        "model"
      ],
      "execution_count": null,
      "outputs": [
        {
          "output_type": "execute_result",
          "data": {
            "text/plain": [
              "NN(\n",
              "  (flatten): Flatten(start_dim=1, end_dim=-1)\n",
              "  (linear_relu_stack): Sequential(\n",
              "    (0): Linear(in_features=784, out_features=512, bias=True)\n",
              "    (1): ReLU()\n",
              "    (2): Linear(in_features=512, out_features=512, bias=True)\n",
              "    (3): ReLU()\n",
              "    (4): Linear(in_features=512, out_features=10, bias=True)\n",
              "    (5): ReLU()\n",
              "  )\n",
              ")"
            ]
          },
          "metadata": {
            "tags": []
          },
          "execution_count": 24
        }
      ]
    },
    {
      "cell_type": "code",
      "metadata": {
        "colab": {
          "base_uri": "https://localhost:8080/"
        },
        "id": "GE-XrFp6-CfU",
        "outputId": "2d10e635-c830-49c7-f470-9be28d4bffaa"
      },
      "source": [
        "learning_rate = 1e-3\n",
        "batch_size = 64\n",
        "epochs = 5\n",
        "\n",
        "loss_fn = nn.CrossEntropyLoss()\n",
        "loss_fn"
      ],
      "execution_count": null,
      "outputs": [
        {
          "output_type": "execute_result",
          "data": {
            "text/plain": [
              "CrossEntropyLoss()"
            ]
          },
          "metadata": {
            "tags": []
          },
          "execution_count": 25
        }
      ]
    },
    {
      "cell_type": "code",
      "metadata": {
        "colab": {
          "base_uri": "https://localhost:8080/"
        },
        "id": "SV-ib5Ql-KVi",
        "outputId": "0a214fe8-cfe4-42a7-b7a9-77202782f349"
      },
      "source": [
        "optimizer = torch.optim.SGD(model.parameters(), lr=learning_rate)\n",
        "optimizer"
      ],
      "execution_count": null,
      "outputs": [
        {
          "output_type": "execute_result",
          "data": {
            "text/plain": [
              "SGD (\n",
              "Parameter Group 0\n",
              "    dampening: 0\n",
              "    lr: 0.001\n",
              "    momentum: 0\n",
              "    nesterov: False\n",
              "    weight_decay: 0\n",
              ")"
            ]
          },
          "metadata": {
            "tags": []
          },
          "execution_count": 26
        }
      ]
    },
    {
      "cell_type": "code",
      "metadata": {
        "id": "kpjOq6vU-QQO"
      },
      "source": [
        "def train_loop (dataloader, model, loss_fn, optimizer):\n",
        "  size = len (dataloader.dataset)\n",
        "  for batch, (X,y) in enumerate(dataloader):\n",
        "    pred = model(X)\n",
        "    loss = loss_fn (pred, y)\n",
        "\n",
        "    optimizer.zero_grad()\n",
        "    loss.backward()\n",
        "    optimizer.step()\n",
        "\n",
        "    if batch%100 ==0:\n",
        "      loss, current = loss.item(), batch *len(X)\n",
        "      print(f\"loss : {loss :>7f} [{current:>5d}/{size:>5d}]\")"
      ],
      "execution_count": null,
      "outputs": []
    },
    {
      "cell_type": "code",
      "metadata": {
        "id": "jV_kgeNm-9V0"
      },
      "source": [
        "def test_loop(dataloader,model, loss_fn):\n",
        "  size = len(dataloader.dataset)\n",
        "  test_loss, correct = 0, 0\n",
        "  with torch.no_grad():\n",
        "    for X,y in dataloader:\n",
        "      pred = model(X)\n",
        "      test_loss += loss_fn(pred, y).item()\n",
        "      correct += (pred.argmax(1) == y).type(torch.float).sum().item()\n",
        "\n",
        "  test_loss /= size\n",
        "  correct /= size\n",
        "\n",
        "  print(f\"Test Error: \\n Accuracy : {(100*correct):>0.1f}%, AvgLoss : {test_loss:>8f} \\n\")"
      ],
      "execution_count": null,
      "outputs": []
    },
    {
      "cell_type": "code",
      "metadata": {
        "colab": {
          "base_uri": "https://localhost:8080/",
          "height": 408
        },
        "id": "GRO9x_Nt_pSv",
        "outputId": "0e506881-9c7b-44c3-cb1f-201135e6987e"
      },
      "source": [
        "loss_fn = nn.CrossEntropyLoss()\n",
        "optimizer = torch.optim.SGD(model.parameters(), lr=learning_rate)\n",
        "\n",
        "epochs = 10\n",
        "for t in range(epochs):\n",
        "    print(f\"Epoch {t+1}\\n-------------------------------\")\n",
        "    train_loop(train_dataloader, model, loss_fn, optimizer)\n",
        "    test_loop(test_dataloader, model, loss_fn)\n",
        "print(\"Done!\")"
      ],
      "execution_count": null,
      "outputs": [
        {
          "output_type": "stream",
          "text": [
            "Epoch 1\n",
            "-------------------------------\n"
          ],
          "name": "stdout"
        },
        {
          "output_type": "error",
          "ename": "NotImplementedError",
          "evalue": "ignored",
          "traceback": [
            "\u001b[0;31m---------------------------------------------------------------------------\u001b[0m",
            "\u001b[0;31mNotImplementedError\u001b[0m                       Traceback (most recent call last)",
            "\u001b[0;32m<ipython-input-29-cc94fd5b8066>\u001b[0m in \u001b[0;36m<module>\u001b[0;34m()\u001b[0m\n\u001b[1;32m      5\u001b[0m \u001b[0;32mfor\u001b[0m \u001b[0mt\u001b[0m \u001b[0;32min\u001b[0m \u001b[0mrange\u001b[0m\u001b[0;34m(\u001b[0m\u001b[0mepochs\u001b[0m\u001b[0;34m)\u001b[0m\u001b[0;34m:\u001b[0m\u001b[0;34m\u001b[0m\u001b[0;34m\u001b[0m\u001b[0m\n\u001b[1;32m      6\u001b[0m     \u001b[0mprint\u001b[0m\u001b[0;34m(\u001b[0m\u001b[0;34mf\"Epoch {t+1}\\n-------------------------------\"\u001b[0m\u001b[0;34m)\u001b[0m\u001b[0;34m\u001b[0m\u001b[0;34m\u001b[0m\u001b[0m\n\u001b[0;32m----> 7\u001b[0;31m     \u001b[0mtrain_loop\u001b[0m\u001b[0;34m(\u001b[0m\u001b[0mtrain_dataloader\u001b[0m\u001b[0;34m,\u001b[0m \u001b[0mmodel\u001b[0m\u001b[0;34m,\u001b[0m \u001b[0mloss_fn\u001b[0m\u001b[0;34m,\u001b[0m \u001b[0moptimizer\u001b[0m\u001b[0;34m)\u001b[0m\u001b[0;34m\u001b[0m\u001b[0;34m\u001b[0m\u001b[0m\n\u001b[0m\u001b[1;32m      8\u001b[0m     \u001b[0mtest_loop\u001b[0m\u001b[0;34m(\u001b[0m\u001b[0mtest_dataloader\u001b[0m\u001b[0;34m,\u001b[0m \u001b[0mmodel\u001b[0m\u001b[0;34m,\u001b[0m \u001b[0mloss_fn\u001b[0m\u001b[0;34m)\u001b[0m\u001b[0;34m\u001b[0m\u001b[0;34m\u001b[0m\u001b[0m\n\u001b[1;32m      9\u001b[0m \u001b[0mprint\u001b[0m\u001b[0;34m(\u001b[0m\u001b[0;34m\"Done!\"\u001b[0m\u001b[0;34m)\u001b[0m\u001b[0;34m\u001b[0m\u001b[0;34m\u001b[0m\u001b[0m\n",
            "\u001b[0;32m<ipython-input-27-940d7c0eef2c>\u001b[0m in \u001b[0;36mtrain_loop\u001b[0;34m(dataloader, model, loss_fn, optimizer)\u001b[0m\n\u001b[1;32m      2\u001b[0m   \u001b[0msize\u001b[0m \u001b[0;34m=\u001b[0m \u001b[0mlen\u001b[0m \u001b[0;34m(\u001b[0m\u001b[0mdataloader\u001b[0m\u001b[0;34m.\u001b[0m\u001b[0mdataset\u001b[0m\u001b[0;34m)\u001b[0m\u001b[0;34m\u001b[0m\u001b[0;34m\u001b[0m\u001b[0m\n\u001b[1;32m      3\u001b[0m   \u001b[0;32mfor\u001b[0m \u001b[0mbatch\u001b[0m\u001b[0;34m,\u001b[0m \u001b[0;34m(\u001b[0m\u001b[0mX\u001b[0m\u001b[0;34m,\u001b[0m\u001b[0my\u001b[0m\u001b[0;34m)\u001b[0m \u001b[0;32min\u001b[0m \u001b[0menumerate\u001b[0m\u001b[0;34m(\u001b[0m\u001b[0mdataloader\u001b[0m\u001b[0;34m)\u001b[0m\u001b[0;34m:\u001b[0m\u001b[0;34m\u001b[0m\u001b[0;34m\u001b[0m\u001b[0m\n\u001b[0;32m----> 4\u001b[0;31m     \u001b[0mpred\u001b[0m \u001b[0;34m=\u001b[0m \u001b[0mmodel\u001b[0m\u001b[0;34m(\u001b[0m\u001b[0mX\u001b[0m\u001b[0;34m)\u001b[0m\u001b[0;34m\u001b[0m\u001b[0;34m\u001b[0m\u001b[0m\n\u001b[0m\u001b[1;32m      5\u001b[0m     \u001b[0mloss\u001b[0m \u001b[0;34m=\u001b[0m \u001b[0mloss_fn\u001b[0m \u001b[0;34m(\u001b[0m\u001b[0mpred\u001b[0m\u001b[0;34m,\u001b[0m \u001b[0my\u001b[0m\u001b[0;34m)\u001b[0m\u001b[0;34m\u001b[0m\u001b[0;34m\u001b[0m\u001b[0m\n\u001b[1;32m      6\u001b[0m \u001b[0;34m\u001b[0m\u001b[0m\n",
            "\u001b[0;32m/usr/local/lib/python3.7/dist-packages/torch/nn/modules/module.py\u001b[0m in \u001b[0;36m_call_impl\u001b[0;34m(self, *input, **kwargs)\u001b[0m\n\u001b[1;32m   1049\u001b[0m         if not (self._backward_hooks or self._forward_hooks or self._forward_pre_hooks or _global_backward_hooks\n\u001b[1;32m   1050\u001b[0m                 or _global_forward_hooks or _global_forward_pre_hooks):\n\u001b[0;32m-> 1051\u001b[0;31m             \u001b[0;32mreturn\u001b[0m \u001b[0mforward_call\u001b[0m\u001b[0;34m(\u001b[0m\u001b[0;34m*\u001b[0m\u001b[0minput\u001b[0m\u001b[0;34m,\u001b[0m \u001b[0;34m**\u001b[0m\u001b[0mkwargs\u001b[0m\u001b[0;34m)\u001b[0m\u001b[0;34m\u001b[0m\u001b[0;34m\u001b[0m\u001b[0m\n\u001b[0m\u001b[1;32m   1052\u001b[0m         \u001b[0;31m# Do not call functions when jit is used\u001b[0m\u001b[0;34m\u001b[0m\u001b[0;34m\u001b[0m\u001b[0;34m\u001b[0m\u001b[0m\n\u001b[1;32m   1053\u001b[0m         \u001b[0mfull_backward_hooks\u001b[0m\u001b[0;34m,\u001b[0m \u001b[0mnon_full_backward_hooks\u001b[0m \u001b[0;34m=\u001b[0m \u001b[0;34m[\u001b[0m\u001b[0;34m]\u001b[0m\u001b[0;34m,\u001b[0m \u001b[0;34m[\u001b[0m\u001b[0;34m]\u001b[0m\u001b[0;34m\u001b[0m\u001b[0;34m\u001b[0m\u001b[0m\n",
            "\u001b[0;32m/usr/local/lib/python3.7/dist-packages/torch/nn/modules/module.py\u001b[0m in \u001b[0;36m_forward_unimplemented\u001b[0;34m(self, *input)\u001b[0m\n\u001b[1;32m    199\u001b[0m         \u001b[0mregistered\u001b[0m \u001b[0mhooks\u001b[0m \u001b[0;32mwhile\u001b[0m \u001b[0mthe\u001b[0m \u001b[0mlatter\u001b[0m \u001b[0msilently\u001b[0m \u001b[0mignores\u001b[0m \u001b[0mthem\u001b[0m\u001b[0;34m.\u001b[0m\u001b[0;34m\u001b[0m\u001b[0;34m\u001b[0m\u001b[0m\n\u001b[1;32m    200\u001b[0m     \"\"\"\n\u001b[0;32m--> 201\u001b[0;31m     \u001b[0;32mraise\u001b[0m \u001b[0mNotImplementedError\u001b[0m\u001b[0;34m\u001b[0m\u001b[0;34m\u001b[0m\u001b[0m\n\u001b[0m\u001b[1;32m    202\u001b[0m \u001b[0;34m\u001b[0m\u001b[0m\n\u001b[1;32m    203\u001b[0m \u001b[0;34m\u001b[0m\u001b[0m\n",
            "\u001b[0;31mNotImplementedError\u001b[0m: "
          ]
        }
      ]
    },
    {
      "cell_type": "code",
      "metadata": {
        "colab": {
          "base_uri": "https://localhost:8080/"
        },
        "id": "l_k72WiYA6xu",
        "outputId": "61df0952-1ee7-4917-dc69-ba21ca2fe7b7"
      },
      "source": [
        "import torch\n",
        "from torch import nn\n",
        "from torch.utils.data import DataLoader\n",
        "from torchvision import datasets\n",
        "from torchvision.transforms import ToTensor, Lambda\n",
        "\n",
        "training_data = datasets.FashionMNIST(\n",
        "    root=\"data\",\n",
        "    train=True,\n",
        "    download=True,\n",
        "    transform=ToTensor()\n",
        ")\n",
        "\n",
        "test_data = datasets.FashionMNIST(\n",
        "    root=\"data\",\n",
        "    train=False,\n",
        "    download=True,\n",
        "    transform=ToTensor()\n",
        ")\n",
        "\n",
        "train_dataloader = DataLoader(training_data, batch_size=64)\n",
        "test_dataloader = DataLoader(test_data, batch_size=64)\n",
        "\n",
        "class NeuralNetwork(nn.Module):\n",
        "    def __init__(self):\n",
        "        super(NeuralNetwork, self).__init__()\n",
        "        self.flatten = nn.Flatten()\n",
        "        self.linear_relu_stack = nn.Sequential(\n",
        "            nn.Linear(28*28, 512),\n",
        "            nn.ReLU(),\n",
        "            nn.Linear(512, 512),\n",
        "            nn.ReLU(),\n",
        "            nn.Linear(512, 10),\n",
        "            nn.ReLU()\n",
        "        )\n",
        "\n",
        "    def forward(self, x):\n",
        "        x = self.flatten(x)\n",
        "        logits = self.linear_relu_stack(x)\n",
        "        return logits\n",
        "\n",
        "model = NeuralNetwork()\n",
        "\n",
        "learning_rate = 1e-3\n",
        "batch_size = 64\n",
        "epochs = 5\n",
        "# Initialize the loss function\n",
        "loss_fn = nn.CrossEntropyLoss()\n",
        "\n",
        "optimizer = torch.optim.SGD(model.parameters(), lr=learning_rate)\n",
        "\n",
        "def train_loop(dataloader, model, loss_fn, optimizer):\n",
        "    size = len(dataloader.dataset)\n",
        "    for batch, (X, y) in enumerate(dataloader):        \n",
        "        # Compute prediction and loss\n",
        "        pred = model(X)\n",
        "        loss = loss_fn(pred, y)\n",
        "        \n",
        "        # Backpropagation\n",
        "        optimizer.zero_grad()\n",
        "        loss.backward()\n",
        "        optimizer.step()\n",
        "\n",
        "        if batch % 100 == 0:\n",
        "            loss, current = loss.item(), batch * len(X)\n",
        "            print(f\"loss: {loss:>7f}  [{current:>5d}/{size:>5d}]\")\n",
        "\n",
        "\n",
        "def test_loop(dataloader, model, loss_fn):\n",
        "    size = len(dataloader.dataset)\n",
        "    test_loss, correct = 0, 0\n",
        "\n",
        "    with torch.no_grad():\n",
        "        for X, y in dataloader:\n",
        "            pred = model(X)\n",
        "            test_loss += loss_fn(pred, y).item()\n",
        "            correct += (pred.argmax(1) == y).type(torch.float).sum().item()\n",
        "            \n",
        "    test_loss /= size\n",
        "    correct /= size\n",
        "    print(f\"Test Error: \\n Accuracy: {(100*correct):>0.1f}%, Avg loss: {test_loss:>8f} \\n\")\n",
        "    \n",
        "\n",
        "loss_fn = nn.CrossEntropyLoss()\n",
        "optimizer = torch.optim.SGD(model.parameters(), lr=learning_rate)\n",
        "\n",
        "epochs = 10\n",
        "for t in range(epochs):\n",
        "    print(f\"Epoch {t+1}\\n-------------------------------\")\n",
        "    train_loop(train_dataloader, model, loss_fn, optimizer)\n",
        "    test_loop(test_dataloader, model, loss_fn)\n",
        "print(\"Done!\")"
      ],
      "execution_count": null,
      "outputs": [
        {
          "output_type": "stream",
          "text": [
            "Epoch 1\n",
            "-------------------------------\n",
            "loss: 2.299237  [    0/60000]\n",
            "loss: 2.288951  [ 6400/60000]\n",
            "loss: 2.280460  [12800/60000]\n",
            "loss: 2.286466  [19200/60000]\n",
            "loss: 2.274889  [25600/60000]\n",
            "loss: 2.260793  [32000/60000]\n",
            "loss: 2.253695  [38400/60000]\n",
            "loss: 2.232205  [44800/60000]\n",
            "loss: 2.245378  [51200/60000]\n",
            "loss: 2.228816  [57600/60000]\n",
            "Test Error: \n",
            " Accuracy: 39.3%, Avg loss: 0.035004 \n",
            "\n",
            "Epoch 2\n",
            "-------------------------------\n",
            "loss: 2.220352  [    0/60000]\n",
            "loss: 2.223371  [ 6400/60000]\n",
            "loss: 2.188001  [12800/60000]\n",
            "loss: 2.212621  [19200/60000]\n",
            "loss: 2.185765  [25600/60000]\n",
            "loss: 2.162212  [32000/60000]\n",
            "loss: 2.148218  [38400/60000]\n",
            "loss: 2.111271  [44800/60000]\n",
            "loss: 2.144816  [51200/60000]\n",
            "loss: 2.108546  [57600/60000]\n",
            "Test Error: \n",
            " Accuracy: 43.3%, Avg loss: 0.033282 \n",
            "\n",
            "Epoch 3\n",
            "-------------------------------\n",
            "loss: 2.102835  [    0/60000]\n",
            "loss: 2.120657  [ 6400/60000]\n",
            "loss: 2.044794  [12800/60000]\n",
            "loss: 2.094587  [19200/60000]\n",
            "loss: 2.042747  [25600/60000]\n",
            "loss: 2.008679  [32000/60000]\n",
            "loss: 1.979613  [38400/60000]\n",
            "loss: 1.925021  [44800/60000]\n",
            "loss: 1.988471  [51200/60000]\n",
            "loss: 1.925047  [57600/60000]\n",
            "Test Error: \n",
            " Accuracy: 44.0%, Avg loss: 0.030720 \n",
            "\n",
            "Epoch 4\n",
            "-------------------------------\n",
            "loss: 1.929835  [    0/60000]\n",
            "loss: 1.978337  [ 6400/60000]\n",
            "loss: 1.852731  [12800/60000]\n",
            "loss: 1.931113  [19200/60000]\n",
            "loss: 1.870843  [25600/60000]\n",
            "loss: 1.832945  [32000/60000]\n",
            "loss: 1.776340  [38400/60000]\n",
            "loss: 1.724381  [44800/60000]\n",
            "loss: 1.818464  [51200/60000]\n",
            "loss: 1.740249  [57600/60000]\n",
            "Test Error: \n",
            " Accuracy: 43.9%, Avg loss: 0.028229 \n",
            "\n",
            "Epoch 5\n",
            "-------------------------------\n",
            "loss: 1.760887  [    0/60000]\n",
            "loss: 1.850549  [ 6400/60000]\n",
            "loss: 1.690845  [12800/60000]\n",
            "loss: 1.787188  [19200/60000]\n",
            "loss: 1.730269  [25600/60000]\n",
            "loss: 1.705386  [32000/60000]\n",
            "loss: 1.613542  [38400/60000]\n",
            "loss: 1.583315  [44800/60000]\n",
            "loss: 1.691539  [51200/60000]\n",
            "loss: 1.612959  [57600/60000]\n",
            "Test Error: \n",
            " Accuracy: 46.1%, Avg loss: 0.026425 \n",
            "\n",
            "Epoch 6\n",
            "-------------------------------\n",
            "loss: 1.637824  [    0/60000]\n",
            "loss: 1.753753  [ 6400/60000]\n",
            "loss: 1.575763  [12800/60000]\n",
            "loss: 1.687108  [19200/60000]\n",
            "loss: 1.620803  [25600/60000]\n",
            "loss: 1.616423  [32000/60000]\n",
            "loss: 1.501965  [38400/60000]\n",
            "loss: 1.486228  [44800/60000]\n",
            "loss: 1.600748  [51200/60000]\n",
            "loss: 1.530633  [57600/60000]\n",
            "Test Error: \n",
            " Accuracy: 47.4%, Avg loss: 0.025123 \n",
            "\n",
            "Epoch 7\n",
            "-------------------------------\n",
            "loss: 1.551352  [    0/60000]\n",
            "loss: 1.682368  [ 6400/60000]\n",
            "loss: 1.490273  [12800/60000]\n",
            "loss: 1.615973  [19200/60000]\n",
            "loss: 1.541031  [25600/60000]\n",
            "loss: 1.553450  [32000/60000]\n",
            "loss: 1.426499  [38400/60000]\n",
            "loss: 1.413372  [44800/60000]\n",
            "loss: 1.535331  [51200/60000]\n",
            "loss: 1.475858  [57600/60000]\n",
            "Test Error: \n",
            " Accuracy: 48.7%, Avg loss: 0.024168 \n",
            "\n",
            "Epoch 8\n",
            "-------------------------------\n",
            "loss: 1.486267  [    0/60000]\n",
            "loss: 1.625733  [ 6400/60000]\n",
            "loss: 1.423643  [12800/60000]\n",
            "loss: 1.560186  [19200/60000]\n",
            "loss: 1.484446  [25600/60000]\n",
            "loss: 1.506977  [32000/60000]\n",
            "loss: 1.372855  [38400/60000]\n",
            "loss: 1.357316  [44800/60000]\n",
            "loss: 1.486728  [51200/60000]\n",
            "loss: 1.437563  [57600/60000]\n",
            "Test Error: \n",
            " Accuracy: 49.6%, Avg loss: 0.023444 \n",
            "\n",
            "Epoch 9\n",
            "-------------------------------\n",
            "loss: 1.434985  [    0/60000]\n",
            "loss: 1.579946  [ 6400/60000]\n",
            "loss: 1.370008  [12800/60000]\n",
            "loss: 1.516221  [19200/60000]\n",
            "loss: 1.442483  [25600/60000]\n",
            "loss: 1.471496  [32000/60000]\n",
            "loss: 1.332848  [38400/60000]\n",
            "loss: 1.313271  [44800/60000]\n",
            "loss: 1.449471  [51200/60000]\n",
            "loss: 1.408541  [57600/60000]\n",
            "Test Error: \n",
            " Accuracy: 50.5%, Avg loss: 0.022877 \n",
            "\n",
            "Epoch 10\n",
            "-------------------------------\n",
            "loss: 1.392249  [    0/60000]\n",
            "loss: 1.542489  [ 6400/60000]\n",
            "loss: 1.326917  [12800/60000]\n",
            "loss: 1.481062  [19200/60000]\n",
            "loss: 1.411086  [25600/60000]\n",
            "loss: 1.443429  [32000/60000]\n",
            "loss: 1.301360  [38400/60000]\n",
            "loss: 1.277822  [44800/60000]\n",
            "loss: 1.419712  [51200/60000]\n",
            "loss: 1.386392  [57600/60000]\n",
            "Test Error: \n",
            " Accuracy: 51.5%, Avg loss: 0.022421 \n",
            "\n",
            "Done!\n"
          ],
          "name": "stdout"
        }
      ]
    },
    {
      "cell_type": "code",
      "metadata": {
        "colab": {
          "base_uri": "https://localhost:8080/",
          "height": 83,
          "referenced_widgets": [
            "e2589293ce3f4acd9153270067ce8629",
            "f4ba420f42424f8faa986a2d5c1eea25",
            "91c207dd52264debafa20d0f9fc69e6c",
            "42b8cbcb2afd426f8f5babe3bc190cc1",
            "80789beb4aea4bd3bd14102bc9307962",
            "af75849c098a47019b61bfef4e24e811",
            "22f388577a2a4fa1ade716fd8a9cd557",
            "46a7b4541f8a4ca8b64171b0d592c4f3"
          ]
        },
        "id": "yaTW4i9-Bm4k",
        "outputId": "63b52dcb-e3eb-424c-8e33-0fa7692ba5b5"
      },
      "source": [
        "import torch\n",
        "import torch.onnx as onnx\n",
        "import torchvision.models as models\n",
        "\n",
        "model = models.vgg16(pretrained=True)\n",
        "torch.save(model.state_dict(), 'data/model_weights.pth')"
      ],
      "execution_count": null,
      "outputs": [
        {
          "output_type": "stream",
          "text": [
            "Downloading: \"https://download.pytorch.org/models/vgg16-397923af.pth\" to /root/.cache/torch/hub/checkpoints/vgg16-397923af.pth\n"
          ],
          "name": "stderr"
        },
        {
          "output_type": "display_data",
          "data": {
            "application/vnd.jupyter.widget-view+json": {
              "model_id": "e2589293ce3f4acd9153270067ce8629",
              "version_minor": 0,
              "version_major": 2
            },
            "text/plain": [
              "HBox(children=(FloatProgress(value=0.0, max=553433881.0), HTML(value='')))"
            ]
          },
          "metadata": {
            "tags": []
          }
        },
        {
          "output_type": "stream",
          "text": [
            "\n"
          ],
          "name": "stdout"
        }
      ]
    },
    {
      "cell_type": "code",
      "metadata": {
        "colab": {
          "base_uri": "https://localhost:8080/"
        },
        "id": "HjxxuYPUB1S1",
        "outputId": "a34f7e2d-3bc7-461c-e4f7-4a30c82c2e16"
      },
      "source": [
        "model = models.vgg16()\n",
        "model.load_state_dict(torch.load('data/model_weights.pth'))\n",
        "model.eval()"
      ],
      "execution_count": null,
      "outputs": [
        {
          "output_type": "execute_result",
          "data": {
            "text/plain": [
              "VGG(\n",
              "  (features): Sequential(\n",
              "    (0): Conv2d(3, 64, kernel_size=(3, 3), stride=(1, 1), padding=(1, 1))\n",
              "    (1): ReLU(inplace=True)\n",
              "    (2): Conv2d(64, 64, kernel_size=(3, 3), stride=(1, 1), padding=(1, 1))\n",
              "    (3): ReLU(inplace=True)\n",
              "    (4): MaxPool2d(kernel_size=2, stride=2, padding=0, dilation=1, ceil_mode=False)\n",
              "    (5): Conv2d(64, 128, kernel_size=(3, 3), stride=(1, 1), padding=(1, 1))\n",
              "    (6): ReLU(inplace=True)\n",
              "    (7): Conv2d(128, 128, kernel_size=(3, 3), stride=(1, 1), padding=(1, 1))\n",
              "    (8): ReLU(inplace=True)\n",
              "    (9): MaxPool2d(kernel_size=2, stride=2, padding=0, dilation=1, ceil_mode=False)\n",
              "    (10): Conv2d(128, 256, kernel_size=(3, 3), stride=(1, 1), padding=(1, 1))\n",
              "    (11): ReLU(inplace=True)\n",
              "    (12): Conv2d(256, 256, kernel_size=(3, 3), stride=(1, 1), padding=(1, 1))\n",
              "    (13): ReLU(inplace=True)\n",
              "    (14): Conv2d(256, 256, kernel_size=(3, 3), stride=(1, 1), padding=(1, 1))\n",
              "    (15): ReLU(inplace=True)\n",
              "    (16): MaxPool2d(kernel_size=2, stride=2, padding=0, dilation=1, ceil_mode=False)\n",
              "    (17): Conv2d(256, 512, kernel_size=(3, 3), stride=(1, 1), padding=(1, 1))\n",
              "    (18): ReLU(inplace=True)\n",
              "    (19): Conv2d(512, 512, kernel_size=(3, 3), stride=(1, 1), padding=(1, 1))\n",
              "    (20): ReLU(inplace=True)\n",
              "    (21): Conv2d(512, 512, kernel_size=(3, 3), stride=(1, 1), padding=(1, 1))\n",
              "    (22): ReLU(inplace=True)\n",
              "    (23): MaxPool2d(kernel_size=2, stride=2, padding=0, dilation=1, ceil_mode=False)\n",
              "    (24): Conv2d(512, 512, kernel_size=(3, 3), stride=(1, 1), padding=(1, 1))\n",
              "    (25): ReLU(inplace=True)\n",
              "    (26): Conv2d(512, 512, kernel_size=(3, 3), stride=(1, 1), padding=(1, 1))\n",
              "    (27): ReLU(inplace=True)\n",
              "    (28): Conv2d(512, 512, kernel_size=(3, 3), stride=(1, 1), padding=(1, 1))\n",
              "    (29): ReLU(inplace=True)\n",
              "    (30): MaxPool2d(kernel_size=2, stride=2, padding=0, dilation=1, ceil_mode=False)\n",
              "  )\n",
              "  (avgpool): AdaptiveAvgPool2d(output_size=(7, 7))\n",
              "  (classifier): Sequential(\n",
              "    (0): Linear(in_features=25088, out_features=4096, bias=True)\n",
              "    (1): ReLU(inplace=True)\n",
              "    (2): Dropout(p=0.5, inplace=False)\n",
              "    (3): Linear(in_features=4096, out_features=4096, bias=True)\n",
              "    (4): ReLU(inplace=True)\n",
              "    (5): Dropout(p=0.5, inplace=False)\n",
              "    (6): Linear(in_features=4096, out_features=1000, bias=True)\n",
              "  )\n",
              ")"
            ]
          },
          "metadata": {
            "tags": []
          },
          "execution_count": 33
        }
      ]
    },
    {
      "cell_type": "code",
      "metadata": {
        "id": "tKOba5BLB8G2"
      },
      "source": [
        "torch.save(model, 'data/vgg_model.pth')"
      ],
      "execution_count": null,
      "outputs": []
    },
    {
      "cell_type": "code",
      "metadata": {
        "id": "Dv-vdlyXCDAK"
      },
      "source": [
        "model = torch.load('data/vgg_model.pth')"
      ],
      "execution_count": null,
      "outputs": []
    },
    {
      "cell_type": "code",
      "metadata": {
        "colab": {
          "base_uri": "https://localhost:8080/"
        },
        "id": "WbZGd3PdCFsy",
        "outputId": "dae31321-4f91-43f4-bb1a-4e1d515aff41"
      },
      "source": [
        "input_img = torch.zeros((1,3,244,244))\n",
        "onnx.export(model, input_img, 'data/model.onnx')"
      ],
      "execution_count": null,
      "outputs": [
        {
          "output_type": "stream",
          "text": [
            "/usr/local/lib/python3.7/dist-packages/torch/nn/functional.py:718: UserWarning: Named tensors and all their associated APIs are an experimental feature and subject to change. Please do not use them for anything important until they are released as stable. (Triggered internally at  /pytorch/c10/core/TensorImpl.h:1156.)\n",
            "  return torch.max_pool2d(input, kernel_size, stride, padding, dilation, ceil_mode)\n"
          ],
          "name": "stderr"
        }
      ]
    },
    {
      "cell_type": "code",
      "metadata": {
        "id": "QWzq2M8VCVMI"
      },
      "source": [
        "import torch\n",
        "from torch import nn\n",
        "from torch.utils.data import DataLoader\n",
        "from torchvision import datasets\n",
        "from torchvision.transforms import ToTensor, Lambda, Compose\n",
        "import matplotlib.pyplot as plt\n",
        "\n"
      ],
      "execution_count": null,
      "outputs": []
    },
    {
      "cell_type": "code",
      "metadata": {
        "id": "tgpw-83pCYr4"
      },
      "source": [
        "# Download training data from open datasets.\n",
        "training_data = datasets.FashionMNIST(\n",
        "    root=\"data\",\n",
        "    train=True,\n",
        "    download=True,\n",
        "    transform=ToTensor(),\n",
        ")\n",
        "\n",
        "# Download test data from open datasets.\n",
        "test_data = datasets.FashionMNIST(\n",
        "    root=\"data\",\n",
        "    train=False,\n",
        "    download=True,\n",
        "    transform=ToTensor(),\n",
        ")"
      ],
      "execution_count": null,
      "outputs": []
    },
    {
      "cell_type": "code",
      "metadata": {
        "colab": {
          "base_uri": "https://localhost:8080/"
        },
        "id": "hXboLpBACZJu",
        "outputId": "c57121bf-b58c-4ead-b3ae-ee337af87e16"
      },
      "source": [
        "batch_size = 64\n",
        "\n",
        "# Create data loaders.\n",
        "train_dataloader = DataLoader(training_data, batch_size=batch_size)\n",
        "test_dataloader = DataLoader(test_data, batch_size=batch_size)\n",
        "\n",
        "for X, y in test_dataloader:\n",
        "    print(\"Shape of X [N, C, H, W]: \", X.shape)\n",
        "    print(\"Shape of y: \", y.shape, y.dtype)\n",
        "    break"
      ],
      "execution_count": null,
      "outputs": [
        {
          "output_type": "stream",
          "text": [
            "Shape of X [N, C, H, W]:  torch.Size([64, 1, 28, 28])\n",
            "Shape of y:  torch.Size([64]) torch.int64\n"
          ],
          "name": "stdout"
        }
      ]
    },
    {
      "cell_type": "code",
      "metadata": {
        "colab": {
          "base_uri": "https://localhost:8080/"
        },
        "id": "9M8EXZlvCbr2",
        "outputId": "ae9dbb71-39d0-46a5-929f-b10665ea51c3"
      },
      "source": [
        "# Get cpu or gpu device for training.\n",
        "device = \"cuda\" if torch.cuda.is_available() else \"cpu\"\n",
        "print(\"Using {} device\".format(device))\n",
        "\n",
        "# Define model\n",
        "class NeuralNetwork(nn.Module):\n",
        "    def __init__(self):\n",
        "        super(NeuralNetwork, self).__init__()\n",
        "        self.flatten = nn.Flatten()\n",
        "        self.linear_relu_stack = nn.Sequential(\n",
        "            nn.Linear(28*28, 512),\n",
        "            nn.ReLU(),\n",
        "            nn.Linear(512, 512),\n",
        "            nn.ReLU(),\n",
        "            nn.Linear(512, 10),\n",
        "            nn.ReLU()\n",
        "        )\n",
        "\n",
        "    def forward(self, x):\n",
        "        x = self.flatten(x)\n",
        "        logits = self.linear_relu_stack(x)\n",
        "        return logits\n",
        "\n",
        "model = NeuralNetwork().to(device)\n",
        "print(model)"
      ],
      "execution_count": null,
      "outputs": [
        {
          "output_type": "stream",
          "text": [
            "Using cpu device\n",
            "NeuralNetwork(\n",
            "  (flatten): Flatten(start_dim=1, end_dim=-1)\n",
            "  (linear_relu_stack): Sequential(\n",
            "    (0): Linear(in_features=784, out_features=512, bias=True)\n",
            "    (1): ReLU()\n",
            "    (2): Linear(in_features=512, out_features=512, bias=True)\n",
            "    (3): ReLU()\n",
            "    (4): Linear(in_features=512, out_features=10, bias=True)\n",
            "    (5): ReLU()\n",
            "  )\n",
            ")\n"
          ],
          "name": "stdout"
        }
      ]
    },
    {
      "cell_type": "code",
      "metadata": {
        "id": "iW13r2ziCcL4"
      },
      "source": [
        "loss_fn = nn.CrossEntropyLoss()\n",
        "learning_rate = 1e-3\n",
        "optimizer = torch.optim.SGD(model.parameters(), lr=learning_rate)"
      ],
      "execution_count": null,
      "outputs": []
    },
    {
      "cell_type": "code",
      "metadata": {
        "id": "aJ7qdIw1CeNT"
      },
      "source": [
        "def train(dataloader, model, loss_fn, optimizer):\n",
        "    size = len(dataloader.dataset)\n",
        "    for batch, (X, y) in enumerate(dataloader):\n",
        "        X, y = X.to(device), y.to(device)\n",
        "        \n",
        "        # Compute prediction error\n",
        "        pred = model(X)\n",
        "        loss = loss_fn(pred, y)\n",
        "        \n",
        "        # Backpropagation\n",
        "        optimizer.zero_grad()\n",
        "        loss.backward()\n",
        "        optimizer.step()\n",
        "\n",
        "        if batch % 100 == 0:\n",
        "            loss, current = loss.item(), batch * len(X)\n",
        "            print(f\"loss: {loss:>7f}  [{current:>5d}/{size:>5d}]\")"
      ],
      "execution_count": null,
      "outputs": []
    },
    {
      "cell_type": "code",
      "metadata": {
        "id": "eIdETkxoCffJ"
      },
      "source": [
        "def test(dataloader, model):\n",
        "    size = len(dataloader.dataset)\n",
        "    model.eval()\n",
        "    test_loss, correct = 0, 0\n",
        "    with torch.no_grad():\n",
        "        for X, y in dataloader:\n",
        "            X, y = X.to(device), y.to(device)\n",
        "            pred = model(X)\n",
        "            test_loss += loss_fn(pred, y).item()\n",
        "            correct += (pred.argmax(1) == y).type(torch.float).sum().item()\n",
        "    test_loss /= size\n",
        "    correct /= size\n",
        "    print(f\"Test Error: \\n Accuracy: {(100*correct):>0.1f}%, Avg loss: {test_loss:>8f} \\n\")"
      ],
      "execution_count": null,
      "outputs": []
    },
    {
      "cell_type": "code",
      "metadata": {
        "colab": {
          "base_uri": "https://localhost:8080/"
        },
        "id": "kPvsGXq4Cg8G",
        "outputId": "5c2bbd0a-9811-44b4-a31f-1856743f90c5"
      },
      "source": [
        "epochs = 15\n",
        "for t in range(epochs):\n",
        "    print(f\"Epoch {t+1}\\n-------------------------------\")\n",
        "    train(train_dataloader, model, loss_fn, optimizer)\n",
        "    test(test_dataloader, model)\n",
        "print(\"Done!\")"
      ],
      "execution_count": null,
      "outputs": [
        {
          "output_type": "stream",
          "text": [
            "Epoch 1\n",
            "-------------------------------\n",
            "loss: 2.300637  [    0/60000]\n",
            "loss: 2.294352  [ 6400/60000]\n",
            "loss: 2.281061  [12800/60000]\n",
            "loss: 2.281139  [19200/60000]\n",
            "loss: 2.269872  [25600/60000]\n",
            "loss: 2.267615  [32000/60000]\n",
            "loss: 2.256033  [38400/60000]\n",
            "loss: 2.248545  [44800/60000]\n",
            "loss: 2.248299  [51200/60000]\n",
            "loss: 2.229171  [57600/60000]\n",
            "Test Error: \n",
            " Accuracy: 37.5%, Avg loss: 0.035088 \n",
            "\n",
            "Epoch 2\n",
            "-------------------------------\n",
            "loss: 2.236879  [    0/60000]\n",
            "loss: 2.233057  [ 6400/60000]\n",
            "loss: 2.200495  [12800/60000]\n",
            "loss: 2.210299  [19200/60000]\n",
            "loss: 2.191704  [25600/60000]\n",
            "loss: 2.193842  [32000/60000]\n",
            "loss: 2.167375  [38400/60000]\n",
            "loss: 2.153785  [44800/60000]\n",
            "loss: 2.166066  [51200/60000]\n",
            "loss: 2.123705  [57600/60000]\n",
            "Test Error: \n",
            " Accuracy: 36.6%, Avg loss: 0.033601 \n",
            "\n",
            "Epoch 3\n",
            "-------------------------------\n",
            "loss: 2.147561  [    0/60000]\n",
            "loss: 2.140870  [ 6400/60000]\n",
            "loss: 2.075659  [12800/60000]\n",
            "loss: 2.098066  [19200/60000]\n",
            "loss: 2.067461  [25600/60000]\n",
            "loss: 2.073937  [32000/60000]\n",
            "loss: 2.029422  [38400/60000]\n",
            "loss: 2.007509  [44800/60000]\n",
            "loss: 2.048741  [51200/60000]\n",
            "loss: 1.968762  [57600/60000]\n",
            "Test Error: \n",
            " Accuracy: 36.6%, Avg loss: 0.031486 \n",
            "\n",
            "Epoch 4\n",
            "-------------------------------\n",
            "loss: 2.022621  [    0/60000]\n",
            "loss: 2.015420  [ 6400/60000]\n",
            "loss: 1.914066  [12800/60000]\n",
            "loss: 1.955704  [19200/60000]\n",
            "loss: 1.926616  [25600/60000]\n",
            "loss: 1.935141  [32000/60000]\n",
            "loss: 1.870295  [38400/60000]\n",
            "loss: 1.856342  [44800/60000]\n",
            "loss: 1.932626  [51200/60000]\n",
            "loss: 1.812725  [57600/60000]\n",
            "Test Error: \n",
            " Accuracy: 40.0%, Avg loss: 0.029520 \n",
            "\n",
            "Epoch 5\n",
            "-------------------------------\n",
            "loss: 1.905422  [    0/60000]\n",
            "loss: 1.904349  [ 6400/60000]\n",
            "loss: 1.783516  [12800/60000]\n",
            "loss: 1.837537  [19200/60000]\n",
            "loss: 1.825848  [25600/60000]\n",
            "loss: 1.830951  [32000/60000]\n",
            "loss: 1.741244  [38400/60000]\n",
            "loss: 1.746092  [44800/60000]\n",
            "loss: 1.844439  [51200/60000]\n",
            "loss: 1.696072  [57600/60000]\n",
            "Test Error: \n",
            " Accuracy: 43.0%, Avg loss: 0.028121 \n",
            "\n",
            "Epoch 6\n",
            "-------------------------------\n",
            "loss: 1.820332  [    0/60000]\n",
            "loss: 1.827841  [ 6400/60000]\n",
            "loss: 1.694290  [12800/60000]\n",
            "loss: 1.755112  [19200/60000]\n",
            "loss: 1.759586  [25600/60000]\n",
            "loss: 1.758326  [32000/60000]\n",
            "loss: 1.651087  [38400/60000]\n",
            "loss: 1.666980  [44800/60000]\n",
            "loss: 1.784903  [51200/60000]\n",
            "loss: 1.618906  [57600/60000]\n",
            "Test Error: \n",
            " Accuracy: 44.2%, Avg loss: 0.027167 \n",
            "\n",
            "Epoch 7\n",
            "-------------------------------\n",
            "loss: 1.760976  [    0/60000]\n",
            "loss: 1.776331  [ 6400/60000]\n",
            "loss: 1.629448  [12800/60000]\n",
            "loss: 1.699379  [19200/60000]\n",
            "loss: 1.717744  [25600/60000]\n",
            "loss: 1.707151  [32000/60000]\n",
            "loss: 1.592490  [38400/60000]\n",
            "loss: 1.610983  [44800/60000]\n",
            "loss: 1.744713  [51200/60000]\n",
            "loss: 1.570652  [57600/60000]\n",
            "Test Error: \n",
            " Accuracy: 44.6%, Avg loss: 0.026523 \n",
            "\n",
            "Epoch 8\n",
            "-------------------------------\n",
            "loss: 1.718428  [    0/60000]\n",
            "loss: 1.738688  [ 6400/60000]\n",
            "loss: 1.580939  [12800/60000]\n",
            "loss: 1.659883  [19200/60000]\n",
            "loss: 1.690501  [25600/60000]\n",
            "loss: 1.671883  [32000/60000]\n",
            "loss: 1.553863  [38400/60000]\n",
            "loss: 1.571378  [44800/60000]\n",
            "loss: 1.717537  [51200/60000]\n",
            "loss: 1.539199  [57600/60000]\n",
            "Test Error: \n",
            " Accuracy: 44.8%, Avg loss: 0.026075 \n",
            "\n",
            "Epoch 9\n",
            "-------------------------------\n",
            "loss: 1.686912  [    0/60000]\n",
            "loss: 1.709914  [ 6400/60000]\n",
            "loss: 1.544221  [12800/60000]\n",
            "loss: 1.630847  [19200/60000]\n",
            "loss: 1.672099  [25600/60000]\n",
            "loss: 1.646936  [32000/60000]\n",
            "loss: 1.526691  [38400/60000]\n",
            "loss: 1.543617  [44800/60000]\n",
            "loss: 1.697774  [51200/60000]\n",
            "loss: 1.515743  [57600/60000]\n",
            "Test Error: \n",
            " Accuracy: 45.0%, Avg loss: 0.025747 \n",
            "\n",
            "Epoch 10\n",
            "-------------------------------\n",
            "loss: 1.663284  [    0/60000]\n",
            "loss: 1.688483  [ 6400/60000]\n",
            "loss: 1.517463  [12800/60000]\n",
            "loss: 1.608437  [19200/60000]\n",
            "loss: 1.658879  [25600/60000]\n",
            "loss: 1.628952  [32000/60000]\n",
            "loss: 1.506436  [38400/60000]\n",
            "loss: 1.523863  [44800/60000]\n",
            "loss: 1.682418  [51200/60000]\n",
            "loss: 1.497978  [57600/60000]\n",
            "Test Error: \n",
            " Accuracy: 45.0%, Avg loss: 0.025495 \n",
            "\n",
            "Epoch 11\n",
            "-------------------------------\n",
            "loss: 1.644232  [    0/60000]\n",
            "loss: 1.672031  [ 6400/60000]\n",
            "loss: 1.497203  [12800/60000]\n",
            "loss: 1.590141  [19200/60000]\n",
            "loss: 1.648025  [25600/60000]\n",
            "loss: 1.614837  [32000/60000]\n",
            "loss: 1.490329  [38400/60000]\n",
            "loss: 1.509202  [44800/60000]\n",
            "loss: 1.669935  [51200/60000]\n",
            "loss: 1.483262  [57600/60000]\n",
            "Test Error: \n",
            " Accuracy: 45.1%, Avg loss: 0.025292 \n",
            "\n",
            "Epoch 12\n",
            "-------------------------------\n",
            "loss: 1.628444  [    0/60000]\n",
            "loss: 1.658780  [ 6400/60000]\n",
            "loss: 1.480894  [12800/60000]\n",
            "loss: 1.575013  [19200/60000]\n",
            "loss: 1.639631  [25600/60000]\n",
            "loss: 1.603487  [32000/60000]\n",
            "loss: 1.477207  [38400/60000]\n",
            "loss: 1.497938  [44800/60000]\n",
            "loss: 1.659632  [51200/60000]\n",
            "loss: 1.470571  [57600/60000]\n",
            "Test Error: \n",
            " Accuracy: 45.2%, Avg loss: 0.025123 \n",
            "\n",
            "Epoch 13\n",
            "-------------------------------\n",
            "loss: 1.614930  [    0/60000]\n",
            "loss: 1.647473  [ 6400/60000]\n",
            "loss: 1.467444  [12800/60000]\n",
            "loss: 1.562444  [19200/60000]\n",
            "loss: 1.632601  [25600/60000]\n",
            "loss: 1.594128  [32000/60000]\n",
            "loss: 1.465961  [38400/60000]\n",
            "loss: 1.489548  [44800/60000]\n",
            "loss: 1.650861  [51200/60000]\n",
            "loss: 1.459520  [57600/60000]\n",
            "Test Error: \n",
            " Accuracy: 45.2%, Avg loss: 0.024976 \n",
            "\n",
            "Epoch 14\n",
            "-------------------------------\n",
            "loss: 1.603136  [    0/60000]\n",
            "loss: 1.637205  [ 6400/60000]\n",
            "loss: 1.456095  [12800/60000]\n",
            "loss: 1.551844  [19200/60000]\n",
            "loss: 1.626753  [25600/60000]\n",
            "loss: 1.560365  [32000/60000]\n",
            "loss: 1.420465  [38400/60000]\n",
            "loss: 1.410165  [44800/60000]\n",
            "loss: 1.608622  [51200/60000]\n",
            "loss: 1.420632  [57600/60000]\n",
            "Test Error: \n",
            " Accuracy: 49.5%, Avg loss: 0.024319 \n",
            "\n",
            "Epoch 15\n",
            "-------------------------------\n",
            "loss: 1.534232  [    0/60000]\n",
            "loss: 1.622981  [ 6400/60000]\n",
            "loss: 1.404053  [12800/60000]\n",
            "loss: 1.530334  [19200/60000]\n",
            "loss: 1.625413  [25600/60000]\n",
            "loss: 1.503344  [32000/60000]\n",
            "loss: 1.386911  [38400/60000]\n",
            "loss: 1.373627  [44800/60000]\n",
            "loss: 1.587488  [51200/60000]\n",
            "loss: 1.403516  [57600/60000]\n",
            "Test Error: \n",
            " Accuracy: 50.5%, Avg loss: 0.024033 \n",
            "\n",
            "Done!\n"
          ],
          "name": "stdout"
        }
      ]
    },
    {
      "cell_type": "code",
      "metadata": {
        "colab": {
          "base_uri": "https://localhost:8080/"
        },
        "id": "dVr90YlzCikl",
        "outputId": "d44fd003-a9c8-4bce-bc09-e44819bab393"
      },
      "source": [
        "torch.save(model.state_dict(), \"data/model.pth\")\n",
        "print(\"Saved PyTorch Model State to model.pth\")\n"
      ],
      "execution_count": null,
      "outputs": [
        {
          "output_type": "stream",
          "text": [
            "Saved PyTorch Model State to model.pth\n"
          ],
          "name": "stdout"
        }
      ]
    },
    {
      "cell_type": "code",
      "metadata": {
        "colab": {
          "base_uri": "https://localhost:8080/"
        },
        "id": "3um0GHSFCmZ0",
        "outputId": "17fc1e5c-ef63-449e-9fa7-04c02cc97e24"
      },
      "source": [
        "model = NeuralNetwork()\n",
        "model.load_state_dict(torch.load(\"data/model.pth\"))"
      ],
      "execution_count": null,
      "outputs": [
        {
          "output_type": "execute_result",
          "data": {
            "text/plain": [
              "<All keys matched successfully>"
            ]
          },
          "metadata": {
            "tags": []
          },
          "execution_count": 47
        }
      ]
    },
    {
      "cell_type": "code",
      "metadata": {
        "colab": {
          "base_uri": "https://localhost:8080/"
        },
        "id": "jDmYUP-4CoLb",
        "outputId": "db913e23-b377-4f86-ebde-f03cd85e57be"
      },
      "source": [
        "classes = [\n",
        "    \"T-shirt/top\",\n",
        "    \"Trouser\",\n",
        "    \"Pullover\",\n",
        "    \"Dress\",\n",
        "    \"Coat\",\n",
        "    \"Sandal\",\n",
        "    \"Shirt\",\n",
        "    \"Sneaker\",\n",
        "    \"Bag\",\n",
        "    \"Ankle boot\",\n",
        "]\n",
        "\n",
        "model.eval()\n",
        "x, y = test_data[0][0], test_data[0][1]\n",
        "with torch.no_grad():\n",
        "    pred = model(x)\n",
        "    predicted, actual = classes[pred[0].argmax(0)], classes[y]\n",
        "    print(f'Predicted: \"{predicted}\", Actual: \"{actual}\"')"
      ],
      "execution_count": null,
      "outputs": [
        {
          "output_type": "stream",
          "text": [
            "Predicted: \"Ankle boot\", Actual: \"Ankle boot\"\n"
          ],
          "name": "stdout"
        }
      ]
    }
  ]
}